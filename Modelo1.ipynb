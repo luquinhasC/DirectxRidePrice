{
 "cells": [
  {
   "cell_type": "markdown",
   "metadata": {},
   "source": [
    "## DirectXRidePrice"
   ]
  },
  {
   "cell_type": "markdown",
   "metadata": {},
   "source": [
    "Primeira vista e estudo do dataset proporcionado pelo projeto Cidamo no minicurso introdutório ao programa. Pessoalmente, não faço ideia do que verei a seguir muito menos de como irei lidar com os dados.\n",
    "\n",
    "Como o assunto do estudo é redes neurais, estarei resolvendo o problema pela teoria. De qualquer maneira, pela minha facilidade com o scikit-learn irei utiliza-lo para boa parte do pré-processamento e de diversos testes que provavelmente irei fazer com o dataset.\n",
    "\n",
    "O Objetivo é prever qual é a versão mais alta de Direct X sustentada por cada GPU."
   ]
  },
  {
   "cell_type": "code",
   "execution_count": 1,
   "metadata": {},
   "outputs": [],
   "source": [
    "import pandas as pd\n",
    "import matplotlib.pyplot as plt\n",
    "import seaborn as sns\n",
    "import numpy as np"
   ]
  },
  {
   "cell_type": "code",
   "execution_count": 2,
   "metadata": {},
   "outputs": [
    {
     "data": {
      "text/html": [
       "<div>\n",
       "<style scoped>\n",
       "    .dataframe tbody tr th:only-of-type {\n",
       "        vertical-align: middle;\n",
       "    }\n",
       "\n",
       "    .dataframe tbody tr th {\n",
       "        vertical-align: top;\n",
       "    }\n",
       "\n",
       "    .dataframe thead th {\n",
       "        text-align: right;\n",
       "    }\n",
       "</style>\n",
       "<table border=\"1\" class=\"dataframe\">\n",
       "  <thead>\n",
       "    <tr style=\"text-align: right;\">\n",
       "      <th></th>\n",
       "      <th>Nome</th>\n",
       "      <th>Best_Resolution</th>\n",
       "      <th>Boost_Clock</th>\n",
       "      <th>Core_Speed</th>\n",
       "      <th>DVI_Connection</th>\n",
       "      <th>Dedicated</th>\n",
       "      <th>DisplayPort_Connection</th>\n",
       "      <th>HDMI_Connection</th>\n",
       "      <th>Integrated</th>\n",
       "      <th>L2_Cache</th>\n",
       "      <th>...</th>\n",
       "      <th>Power_Connector</th>\n",
       "      <th>Process</th>\n",
       "      <th>ROPs</th>\n",
       "      <th>Resolution_WxH</th>\n",
       "      <th>SLI_Crossfire</th>\n",
       "      <th>Shader</th>\n",
       "      <th>TMUs</th>\n",
       "      <th>Texture_Rate</th>\n",
       "      <th>VGA_Connection</th>\n",
       "      <th>DirectX</th>\n",
       "    </tr>\n",
       "  </thead>\n",
       "  <tbody>\n",
       "    <tr>\n",
       "      <th>0</th>\n",
       "      <td>GDVGF0SH61PY9M2INL2QI3AHTK3HTCKI7VHE7O19</td>\n",
       "      <td>1920 x 1080</td>\n",
       "      <td>1253 MHz</td>\n",
       "      <td>1076 MHz</td>\n",
       "      <td>1.0</td>\n",
       "      <td>Yes</td>\n",
       "      <td>1.0</td>\n",
       "      <td>1.0</td>\n",
       "      <td>No</td>\n",
       "      <td>1024KB</td>\n",
       "      <td>...</td>\n",
       "      <td>None</td>\n",
       "      <td>28nm</td>\n",
       "      <td>32</td>\n",
       "      <td>5120x3200</td>\n",
       "      <td>Yes</td>\n",
       "      <td>5.0</td>\n",
       "      <td>48.0</td>\n",
       "      <td>60 GTexel/s</td>\n",
       "      <td>0.0</td>\n",
       "      <td>12</td>\n",
       "    </tr>\n",
       "    <tr>\n",
       "      <th>1</th>\n",
       "      <td>7JK45GGO3YLWSYL</td>\n",
       "      <td>NaN</td>\n",
       "      <td>NaN</td>\n",
       "      <td>\\n-</td>\n",
       "      <td>NaN</td>\n",
       "      <td>Yes</td>\n",
       "      <td>NaN</td>\n",
       "      <td>NaN</td>\n",
       "      <td>No</td>\n",
       "      <td>0KB</td>\n",
       "      <td>...</td>\n",
       "      <td>NaN</td>\n",
       "      <td>NaN</td>\n",
       "      <td>NaN</td>\n",
       "      <td>2560x1600</td>\n",
       "      <td>No</td>\n",
       "      <td>4.0</td>\n",
       "      <td>NaN</td>\n",
       "      <td>NaN</td>\n",
       "      <td>NaN</td>\n",
       "      <td>10</td>\n",
       "    </tr>\n",
       "    <tr>\n",
       "      <th>2</th>\n",
       "      <td>ZC0GAMPBZGI7HE1</td>\n",
       "      <td>1366 x 768</td>\n",
       "      <td>NaN</td>\n",
       "      <td>810 MHz</td>\n",
       "      <td>NaN</td>\n",
       "      <td>Yes</td>\n",
       "      <td>NaN</td>\n",
       "      <td>NaN</td>\n",
       "      <td>No</td>\n",
       "      <td>256KB</td>\n",
       "      <td>...</td>\n",
       "      <td>NaN</td>\n",
       "      <td>28nm</td>\n",
       "      <td>16</td>\n",
       "      <td>4096x2160</td>\n",
       "      <td>No</td>\n",
       "      <td>5.0</td>\n",
       "      <td>32.0</td>\n",
       "      <td>26 GTexel/s</td>\n",
       "      <td>NaN</td>\n",
       "      <td>12</td>\n",
       "    </tr>\n",
       "    <tr>\n",
       "      <th>3</th>\n",
       "      <td>TOASMLBKENKUKMXGHHQ1CN95QZRZB2GF7G35KJMOC</td>\n",
       "      <td>1920 x 1080</td>\n",
       "      <td>1111 MHz</td>\n",
       "      <td>1046 MHz</td>\n",
       "      <td>1.0</td>\n",
       "      <td>Yes</td>\n",
       "      <td>NaN</td>\n",
       "      <td>2.0</td>\n",
       "      <td>No</td>\n",
       "      <td>384KB</td>\n",
       "      <td>...</td>\n",
       "      <td>None</td>\n",
       "      <td>28nm</td>\n",
       "      <td>24</td>\n",
       "      <td>4096x2160</td>\n",
       "      <td>Yes</td>\n",
       "      <td>5.0</td>\n",
       "      <td>80.0</td>\n",
       "      <td>89 GTexel/s</td>\n",
       "      <td>0.0</td>\n",
       "      <td>12</td>\n",
       "    </tr>\n",
       "    <tr>\n",
       "      <th>4</th>\n",
       "      <td>G1C3DNBKSFIJ1QH9</td>\n",
       "      <td>1366 x 768</td>\n",
       "      <td>NaN</td>\n",
       "      <td>954 MHz</td>\n",
       "      <td>NaN</td>\n",
       "      <td>Yes</td>\n",
       "      <td>NaN</td>\n",
       "      <td>NaN</td>\n",
       "      <td>No</td>\n",
       "      <td>128KB</td>\n",
       "      <td>...</td>\n",
       "      <td>NaN</td>\n",
       "      <td>28nm</td>\n",
       "      <td>8</td>\n",
       "      <td>4096x2160</td>\n",
       "      <td>No</td>\n",
       "      <td>5.0</td>\n",
       "      <td>32.0</td>\n",
       "      <td>31 GTexel/s</td>\n",
       "      <td>NaN</td>\n",
       "      <td>12</td>\n",
       "    </tr>\n",
       "  </tbody>\n",
       "</table>\n",
       "<p>5 rows × 29 columns</p>\n",
       "</div>"
      ],
      "text/plain": [
       "                                        Nome Best_Resolution Boost_Clock  \\\n",
       "0   GDVGF0SH61PY9M2INL2QI3AHTK3HTCKI7VHE7O19     1920 x 1080   1253 MHz    \n",
       "1                            7JK45GGO3YLWSYL             NaN         NaN   \n",
       "2                            ZC0GAMPBZGI7HE1      1366 x 768         NaN   \n",
       "3  TOASMLBKENKUKMXGHHQ1CN95QZRZB2GF7G35KJMOC     1920 x 1080   1111 MHz    \n",
       "4                           G1C3DNBKSFIJ1QH9      1366 x 768         NaN   \n",
       "\n",
       "  Core_Speed  DVI_Connection Dedicated  DisplayPort_Connection  \\\n",
       "0   1076 MHz             1.0       Yes                     1.0   \n",
       "1       \\n-              NaN       Yes                     NaN   \n",
       "2    810 MHz             NaN       Yes                     NaN   \n",
       "3   1046 MHz             1.0       Yes                     NaN   \n",
       "4    954 MHz             NaN       Yes                     NaN   \n",
       "\n",
       "   HDMI_Connection Integrated L2_Cache  ... Power_Connector Process ROPs  \\\n",
       "0              1.0         No   1024KB  ...           None     28nm   32   \n",
       "1              NaN         No      0KB  ...             NaN     NaN  NaN   \n",
       "2              NaN         No    256KB  ...             NaN    28nm   16   \n",
       "3              2.0         No    384KB  ...           None     28nm   24   \n",
       "4              NaN         No    128KB  ...             NaN    28nm    8   \n",
       "\n",
       "  Resolution_WxH SLI_Crossfire Shader  TMUs Texture_Rate VGA_Connection  \\\n",
       "0      5120x3200           Yes    5.0  48.0  60 GTexel/s            0.0   \n",
       "1      2560x1600            No    4.0   NaN          NaN            NaN   \n",
       "2      4096x2160            No    5.0  32.0  26 GTexel/s            NaN   \n",
       "3      4096x2160           Yes    5.0  80.0  89 GTexel/s            0.0   \n",
       "4      4096x2160            No    5.0  32.0  31 GTexel/s            NaN   \n",
       "\n",
       "  DirectX  \n",
       "0      12  \n",
       "1      10  \n",
       "2      12  \n",
       "3      12  \n",
       "4      12  \n",
       "\n",
       "[5 rows x 29 columns]"
      ]
     },
     "execution_count": 2,
     "metadata": {},
     "output_type": "execute_result"
    }
   ],
   "source": [
    "Dt = pd.read_csv('Train.csv')\n",
    "Dt.head()\n",
    "#Minha primeira vista nos dados do Dataset. Dos Datasets ofertados no curso, este é o maior\n",
    "# com uma ednorme quantidade de features para estudar.\n",
    "\n",
    "#Deixo bem claro meu susto ao perceber a quantidade de valor nulo em certas linhas"
   ]
  },
  {
   "cell_type": "code",
   "execution_count": 3,
   "metadata": {},
   "outputs": [
    {
     "name": "stdout",
     "output_type": "stream",
     "text": [
      "<class 'pandas.core.frame.DataFrame'>\n",
      "RangeIndex: 3180 entries, 0 to 3179\n",
      "Data columns (total 29 columns):\n",
      " #   Column                  Non-Null Count  Dtype  \n",
      "---  ------                  --------------  -----  \n",
      " 0   Nome                    3180 non-null   object \n",
      " 1   Best_Resolution         2650 non-null   object \n",
      " 2   Boost_Clock             1412 non-null   object \n",
      " 3   Core_Speed              3180 non-null   object \n",
      " 4   DVI_Connection          2501 non-null   float64\n",
      " 5   Dedicated               3170 non-null   object \n",
      " 6   DisplayPort_Connection  836 non-null    float64\n",
      " 7   HDMI_Connection         2492 non-null   float64\n",
      " 8   Integrated              3170 non-null   object \n",
      " 9   L2_Cache                3180 non-null   object \n",
      " 10  Max_Power               2633 non-null   object \n",
      " 11  Memory                  2814 non-null   object \n",
      " 12  Memory_Bandwidth        3079 non-null   object \n",
      " 13  Memory_Bus              3133 non-null   object \n",
      " 14  Memory_Speed            3089 non-null   object \n",
      " 15  Memory_Type             3137 non-null   object \n",
      " 16  Notebook_GPU            3180 non-null   object \n",
      " 17  PSU                     2129 non-null   object \n",
      " 18  Pixel_Rate              2735 non-null   object \n",
      " 19  Power_Connector         2534 non-null   object \n",
      " 20  Process                 2806 non-null   object \n",
      " 21  ROPs                    2739 non-null   object \n",
      " 22  Resolution_WxH          3030 non-null   object \n",
      " 23  SLI_Crossfire           3180 non-null   object \n",
      " 24  Shader                  3098 non-null   float64\n",
      " 25  TMUs                    2739 non-null   float64\n",
      " 26  Texture_Rate            2735 non-null   object \n",
      " 27  VGA_Connection          2494 non-null   float64\n",
      " 28  DirectX                 3180 non-null   int64  \n",
      "dtypes: float64(6), int64(1), object(22)\n",
      "memory usage: 720.6+ KB\n"
     ]
    }
   ],
   "source": [
    "Dt.info()\n",
    "#Potencializar meu medo sobre tratar estes valores nulos \n",
    "#Pelo menos a versão do Direct X não contém nenhum nulo"
   ]
  },
  {
   "cell_type": "markdown",
   "metadata": {},
   "source": [
    "## EDA"
   ]
  },
  {
   "cell_type": "markdown",
   "metadata": {},
   "source": [
    "Irei separar o EDA em alguns capitulos do meu sofrimento"
   ]
  },
  {
   "cell_type": "markdown",
   "metadata": {},
   "source": [
    "### Valores nulos"
   ]
  },
  {
   "cell_type": "markdown",
   "metadata": {},
   "source": [
    "Não pretendo trata-los agora, mas acredito ser de extrema importância analisar a relação de valores nulos com o direct X"
   ]
  },
  {
   "cell_type": "code",
   "execution_count": 4,
   "metadata": {},
   "outputs": [
    {
     "data": {
      "text/plain": [
       "12    915\n",
       "11    420\n",
       "10    373\n",
       "9     153\n",
       "8      40\n",
       "Name: DirectX, dtype: int64"
      ]
     },
     "execution_count": 4,
     "metadata": {},
     "output_type": "execute_result"
    }
   ],
   "source": [
    "Dt['DirectX'].loc[Dt.isna().sum(axis = 1) >1 ].value_counts()\n"
   ]
  },
  {
   "cell_type": "code",
   "execution_count": 5,
   "metadata": {},
   "outputs": [
    {
     "data": {
      "image/png": "[encoded data removed]",
      "text/plain": [
       "<Figure size 864x432 with 2 Axes>"
      ]
     },
     "metadata": {
      "needs_background": "light"
     },
     "output_type": "display_data"
    }
   ],
   "source": [
    "fig, axes,  = plt.subplots(1,2,figsize = (12,6))\n",
    "sns.histplot(data = Dt['DirectX'].loc[Dt.isna().sum(axis = 1) > 1 ],\n",
    "ax = axes[0],\n",
    ")\n",
    "sns.histplot(\n",
    "data = Dt['DirectX'],\n",
    "ax = axes[1]\n",
    ")\n",
    "plt.show()\n",
    "#Em geral a disposição dos DirectX nas GPUS que apresentam valores nulos não muda muito comparado ao padrão"
   ]
  },
  {
   "cell_type": "code",
   "execution_count": 6,
   "metadata": {},
   "outputs": [
    {
     "data": {
      "image/png": "[encoded data removed]",
      "text/plain": [
       "<Figure size 864x432 with 2 Axes>"
      ]
     },
     "metadata": {
      "needs_background": "light"
     },
     "output_type": "display_data"
    }
   ],
   "source": [
    "fig, axes,  = plt.subplots(1,2,figsize = (12,6))\n",
    "sns.histplot(data = Dt['DirectX'].loc[Dt.isna().sum(axis = 1) > 7 ],\n",
    "ax = axes[0],\n",
    ")\n",
    "sns.histplot(\n",
    "data = Dt['DirectX'],\n",
    "ax = axes[1]\n",
    ")\n",
    "plt.show()\n",
    "#No caso de muitas colunas nulas ja ocorre uma mudança, porém ainda não há muito o que possa se tirar desses gráficos"
   ]
  },
  {
   "cell_type": "code",
   "execution_count": 7,
   "metadata": {},
   "outputs": [
    {
     "name": "stdout",
     "output_type": "stream",
     "text": [
      "nan\n",
      "9.864150943396226\n",
      "11.010180995475114\n",
      "nan\n",
      "10.910162002945508\n",
      "11.5\n",
      "11.238054607508532\n",
      "10.896802325581396\n",
      "11.5\n",
      "nan\n",
      "10.76965265082267\n",
      "10.756830601092895\n",
      "10.07920792079208\n",
      "10.212765957446809\n",
      "9.89010989010989\n",
      "10.255813953488373\n",
      "nan\n",
      "10.843006660323502\n",
      "9.748314606741573\n",
      "11.0015479876161\n",
      "9.598930481283423\n",
      "9.736961451247165\n",
      "9.626666666666667\n",
      "nan\n",
      "10.621951219512194\n",
      "9.736961451247165\n",
      "9.748314606741573\n",
      "10.912536443148689\n",
      "nan\n",
      "11.420754716981133 11.061020515518148\n"
     ]
    }
   ],
   "source": [
    "for column in Dt.columns:\n",
    "    print(Dt['DirectX'].loc[Dt[column].isna() == True ].mean())\n",
    "print(Dt['DirectX'].mean(),Dt['DirectX'].loc[Dt.isna().sum(axis = 1) >1 ].mean())\n",
    "#Perceba que há médias muito menores do que o esperado"
   ]
  },
  {
   "cell_type": "code",
   "execution_count": 8,
   "metadata": {},
   "outputs": [
    {
     "name": "stdout",
     "output_type": "stream",
     "text": [
      "A média do directX rodado na Best_Resolution  Com  um nulo é: 9.864150943396226\n",
      "A média do directX rodado na Memory_Speed  Com  um nulo é: 9.89010989010989\n",
      "A média do directX rodado na Pixel_Rate  Com  um nulo é: 9.748314606741573\n",
      "A média do directX rodado na Process  Com  um nulo é: 9.598930481283423\n",
      "A média do directX rodado na ROPs  Com  um nulo é: 9.736961451247165\n",
      "A média do directX rodado na Resolution_WxH  Com  um nulo é: 9.626666666666667\n",
      "A média do directX rodado na TMUs  Com  um nulo é: 9.736961451247165\n",
      "A média do directX rodado na Texture_Rate  Com  um nulo é: 9.748314606741573\n",
      "O conjunto de colunas onde os valores nulos influenciam o DirectX rodado é: ['Best_Resolution', 'Memory_Speed', 'Pixel_Rate', 'Process', 'ROPs', 'Resolution_WxH', 'TMUs', 'Texture_Rate']\n"
     ]
    }
   ],
   "source": [
    "importantnull = []\n",
    "for column in Dt.columns:\n",
    "    if Dt['DirectX'].loc[Dt[column].isna()  == True ].mean() < 10:\n",
    "        importantnull.append(column)\n",
    "        print('A média do directX rodado na', column, ' Com  um nulo é:', Dt['DirectX'].loc[Dt[column].isna()  == True ].mean() )\n",
    "print('O conjunto de colunas onde os valores nulos influenciam o DirectX rodado é:',importantnull)        "
   ]
  },
  {
   "cell_type": "markdown",
   "metadata": {},
   "source": [
    "O que iremos fazer com cada uma desses valores iremos decidir depois. Mas é possível criar uma coluna extra dizendo se esses dados são nulos ou não e fazer outros estudos com base nisso"
   ]
  },
  {
   "cell_type": "markdown",
   "metadata": {},
   "source": [
    "### Valores númericos"
   ]
  },
  {
   "cell_type": "markdown",
   "metadata": {},
   "source": [
    "Primeiramente gostaria de dar uma olhada nos valores numéricos. Observar claros casos de outliers e ter uma noção das médias dos dados e quais eu gostaria (ou não) de normalizar."
   ]
  },
  {
   "cell_type": "code",
   "execution_count": 9,
   "metadata": {},
   "outputs": [
    {
     "data": {
      "text/html": [
       "<div>\n",
       "<style scoped>\n",
       "    .dataframe tbody tr th:only-of-type {\n",
       "        vertical-align: middle;\n",
       "    }\n",
       "\n",
       "    .dataframe tbody tr th {\n",
       "        vertical-align: top;\n",
       "    }\n",
       "\n",
       "    .dataframe thead th {\n",
       "        text-align: right;\n",
       "    }\n",
       "</style>\n",
       "<table border=\"1\" class=\"dataframe\">\n",
       "  <thead>\n",
       "    <tr style=\"text-align: right;\">\n",
       "      <th></th>\n",
       "      <th>DVI_Connection</th>\n",
       "      <th>DisplayPort_Connection</th>\n",
       "      <th>HDMI_Connection</th>\n",
       "      <th>Shader</th>\n",
       "      <th>TMUs</th>\n",
       "      <th>VGA_Connection</th>\n",
       "      <th>DirectX</th>\n",
       "    </tr>\n",
       "  </thead>\n",
       "  <tbody>\n",
       "    <tr>\n",
       "      <th>count</th>\n",
       "      <td>2501.000000</td>\n",
       "      <td>836.000000</td>\n",
       "      <td>2492.000000</td>\n",
       "      <td>3098.000000</td>\n",
       "      <td>2739.000000</td>\n",
       "      <td>2494.000000</td>\n",
       "      <td>3180.000000</td>\n",
       "    </tr>\n",
       "    <tr>\n",
       "      <th>mean</th>\n",
       "      <td>1.368653</td>\n",
       "      <td>1.616029</td>\n",
       "      <td>0.864366</td>\n",
       "      <td>4.744061</td>\n",
       "      <td>70.230376</td>\n",
       "      <td>0.212109</td>\n",
       "      <td>11.420755</td>\n",
       "    </tr>\n",
       "    <tr>\n",
       "      <th>std</th>\n",
       "      <td>0.707701</td>\n",
       "      <td>1.221438</td>\n",
       "      <td>0.466525</td>\n",
       "      <td>0.644150</td>\n",
       "      <td>54.450249</td>\n",
       "      <td>0.428991</td>\n",
       "      <td>0.964130</td>\n",
       "    </tr>\n",
       "    <tr>\n",
       "      <th>min</th>\n",
       "      <td>0.000000</td>\n",
       "      <td>0.000000</td>\n",
       "      <td>0.000000</td>\n",
       "      <td>1.000000</td>\n",
       "      <td>1.000000</td>\n",
       "      <td>0.000000</td>\n",
       "      <td>8.000000</td>\n",
       "    </tr>\n",
       "    <tr>\n",
       "      <th>25%</th>\n",
       "      <td>1.000000</td>\n",
       "      <td>1.000000</td>\n",
       "      <td>1.000000</td>\n",
       "      <td>5.000000</td>\n",
       "      <td>32.000000</td>\n",
       "      <td>0.000000</td>\n",
       "      <td>11.000000</td>\n",
       "    </tr>\n",
       "    <tr>\n",
       "      <th>50%</th>\n",
       "      <td>1.000000</td>\n",
       "      <td>1.000000</td>\n",
       "      <td>1.000000</td>\n",
       "      <td>5.000000</td>\n",
       "      <td>56.000000</td>\n",
       "      <td>0.000000</td>\n",
       "      <td>12.000000</td>\n",
       "    </tr>\n",
       "    <tr>\n",
       "      <th>75%</th>\n",
       "      <td>2.000000</td>\n",
       "      <td>3.000000</td>\n",
       "      <td>1.000000</td>\n",
       "      <td>5.000000</td>\n",
       "      <td>112.000000</td>\n",
       "      <td>0.000000</td>\n",
       "      <td>12.000000</td>\n",
       "    </tr>\n",
       "    <tr>\n",
       "      <th>90%</th>\n",
       "      <td>2.000000</td>\n",
       "      <td>3.000000</td>\n",
       "      <td>1.000000</td>\n",
       "      <td>5.000000</td>\n",
       "      <td>144.000000</td>\n",
       "      <td>1.000000</td>\n",
       "      <td>12.000000</td>\n",
       "    </tr>\n",
       "    <tr>\n",
       "      <th>99%</th>\n",
       "      <td>3.000000</td>\n",
       "      <td>3.000000</td>\n",
       "      <td>2.000000</td>\n",
       "      <td>5.000000</td>\n",
       "      <td>240.000000</td>\n",
       "      <td>1.000000</td>\n",
       "      <td>12.000000</td>\n",
       "    </tr>\n",
       "    <tr>\n",
       "      <th>max</th>\n",
       "      <td>4.000000</td>\n",
       "      <td>4.000000</td>\n",
       "      <td>3.000000</td>\n",
       "      <td>5.000000</td>\n",
       "      <td>384.000000</td>\n",
       "      <td>4.000000</td>\n",
       "      <td>12.000000</td>\n",
       "    </tr>\n",
       "  </tbody>\n",
       "</table>\n",
       "</div>"
      ],
      "text/plain": [
       "       DVI_Connection  DisplayPort_Connection  HDMI_Connection       Shader  \\\n",
       "count     2501.000000              836.000000      2492.000000  3098.000000   \n",
       "mean         1.368653                1.616029         0.864366     4.744061   \n",
       "std          0.707701                1.221438         0.466525     0.644150   \n",
       "min          0.000000                0.000000         0.000000     1.000000   \n",
       "25%          1.000000                1.000000         1.000000     5.000000   \n",
       "50%          1.000000                1.000000         1.000000     5.000000   \n",
       "75%          2.000000                3.000000         1.000000     5.000000   \n",
       "90%          2.000000                3.000000         1.000000     5.000000   \n",
       "99%          3.000000                3.000000         2.000000     5.000000   \n",
       "max          4.000000                4.000000         3.000000     5.000000   \n",
       "\n",
       "              TMUs  VGA_Connection      DirectX  \n",
       "count  2739.000000     2494.000000  3180.000000  \n",
       "mean     70.230376        0.212109    11.420755  \n",
       "std      54.450249        0.428991     0.964130  \n",
       "min       1.000000        0.000000     8.000000  \n",
       "25%      32.000000        0.000000    11.000000  \n",
       "50%      56.000000        0.000000    12.000000  \n",
       "75%     112.000000        0.000000    12.000000  \n",
       "90%     144.000000        1.000000    12.000000  \n",
       "99%     240.000000        1.000000    12.000000  \n",
       "max     384.000000        4.000000    12.000000  "
      ]
     },
     "execution_count": 9,
     "metadata": {},
     "output_type": "execute_result"
    }
   ],
   "source": [
    "Dt.describe(percentiles= (0.25,0.75,0.9,0.99))"
   ]
  },
  {
   "cell_type": "code",
   "execution_count": 10,
   "metadata": {},
   "outputs": [
    {
     "data": {
      "image/png": "[encoded data removed]",
      "text/plain": [
       "<Figure size 432x288 with 2 Axes>"
      ]
     },
     "metadata": {
      "needs_background": "light"
     },
     "output_type": "display_data"
    }
   ],
   "source": [
    "cmap = sns.color_palette(\"rainbow\", as_cmap=True)\n",
    "sns.heatmap(Dt.corr(method='spearman'), vmin = -1,vmax = 1,cmap = cmap,linewidths = .5)\n",
    "plt.show()"
   ]
  },
  {
   "cell_type": "code",
   "execution_count": 11,
   "metadata": {},
   "outputs": [
    {
     "data": {
      "text/plain": [
       "VGA_Connection           -0.316267\n",
       "DVI_Connection            0.142414\n",
       "DisplayPort_Connection    0.228413\n",
       "TMUs                      0.416649\n",
       "HDMI_Connection           0.578608\n",
       "Shader                    0.802498\n",
       "DirectX                   1.000000\n",
       "Name: DirectX, dtype: float64"
      ]
     },
     "execution_count": 11,
     "metadata": {},
     "output_type": "execute_result"
    }
   ],
   "source": [
    "Dt.corr(method='spearman')['DirectX'].sort_values()\n",
    "#Perceba que o DisplayPort_connection não é tão relevante na ocorrencia do DirectX\n",
    "#E por outro lado, ele tem uma quantidade absurda de dados faltantes\n",
    "#Apartir de agora irei retirar ele do Dataset"
   ]
  },
  {
   "cell_type": "code",
   "execution_count": 12,
   "metadata": {},
   "outputs": [],
   "source": [
    "Dt1 = Dt.drop('DisplayPort_Connection',axis = 1)"
   ]
  },
  {
   "cell_type": "markdown",
   "metadata": {},
   "source": [
    "Reservo essa Celula para dar um pequeno resumo do que é a feature TMUs: \\\n",
    "In computer graphics, a texture mapping unit (TMU) is a component in modern graphics processing units (GPUs). They are able to rotate, resize, and distort a bitmap image to be placed onto an arbitrary plane of a given 3D model as a texture, in a process called texture mapping. -Wikipédia  https://en.wikipedia.org/wiki/Texture_mapping_unit"
   ]
  },
  {
   "cell_type": "code",
   "execution_count": 13,
   "metadata": {},
   "outputs": [
    {
     "name": "stdout",
     "output_type": "stream",
     "text": [
      "11.703535353535354 11.034883720930232 10.333333333333334\n",
      "11.037773359840955 11.593023255813954 11.834022750775594\n",
      "9.666666666666666 11.648351648351648 11.926315789473684\n",
      "10.0 11.575757575757576 12.0\n",
      "11.009727626459144 11.619705751226036 11.839136831780284\n"
     ]
    }
   ],
   "source": [
    "#Agora realizo um pequeno estudo, sobre as variaveis de portas, verificando se a ocorrencia de um DirectX maior se da\n",
    "#Pela existência da porta, ou pela quantidade de portas:\n",
    "print(Dt1['DirectX'].loc[Dt1['VGA_Connection'] == 0].mean(),\n",
    "Dt1['DirectX'].loc[Dt1['DVI_Connection'] == 0].mean(),\n",
    "Dt1['DirectX'].loc[Dt1['HDMI_Connection'] == 0].mean()\n",
    ")\n",
    "print(Dt1['DirectX'].loc[Dt1['VGA_Connection'] == 1].mean(),\n",
    "Dt1['DirectX'].loc[Dt1['DVI_Connection'] == 1].mean(),\n",
    "Dt1['DirectX'].loc[Dt1['HDMI_Connection'] == 1].mean())\n",
    "print(Dt1['DirectX'].loc[Dt1['VGA_Connection'] == 2].mean(),\n",
    "Dt1['DirectX'].loc[Dt1['DVI_Connection'] == 2].mean(),\n",
    "Dt1['DirectX'].loc[Dt1['HDMI_Connection'] == 2].mean())\n",
    "print(Dt1['DirectX'].loc[Dt1['VGA_Connection'] >= 3].mean(),\n",
    "Dt1['DirectX'].loc[Dt1['DVI_Connection'] >= 3].mean(),\n",
    "Dt1['DirectX'].loc[Dt1['HDMI_Connection'] >= 3].mean())\n",
    "print(Dt1['DirectX'].loc[Dt1['VGA_Connection'] > 0].mean(),\n",
    "Dt1['DirectX'].loc[Dt1['DVI_Connection'] > 0].mean(),\n",
    "Dt1['DirectX'].loc[Dt1['HDMI_Connection'] > 0].mean())\n",
    "#Tirando o caso da conexão VGA as outras features se distinguem em maioria na existência ou não das portas"
   ]
  },
  {
   "cell_type": "markdown",
   "metadata": {},
   "source": [
    "Antes de realizar essas mudanças nesses dados precisamos ver algum jeito de tratar os valores nulos. Como o fato deles serem nulos não altera muito no resultado, irei somente trocar pela média "
   ]
  },
  {
   "cell_type": "code",
   "execution_count": 14,
   "metadata": {},
   "outputs": [],
   "source": [
    "Dt2 = Dt1.copy() \n",
    "Dt2['DVI_Connection'] = Dt2['DVI_Connection'].fillna(Dt2['DVI_Connection'].mode()[0])\n",
    "Dt2['VGA_Connection'] = Dt2['VGA_Connection'].fillna(Dt2['VGA_Connection'].mode()[0])\n",
    "Dt2['HDMI_Connection'] = Dt2['HDMI_Connection'].fillna(Dt2['HDMI_Connection'].mode()[0])\n"
   ]
  },
  {
   "cell_type": "code",
   "execution_count": 15,
   "metadata": {},
   "outputs": [
    {
     "data": {
      "text/plain": [
       "11.96875"
      ]
     },
     "execution_count": 15,
     "metadata": {},
     "output_type": "execute_result"
    }
   ],
   "source": [
    "#Dando uma olhada no outlier claramente perceptivel na feature TMUs\n",
    "Dt2['DirectX'].loc[Dt2['TMUs'] >220 ].mean() # A média diz muito que além de TMU parecer influenciar tanto no DirectX\n",
    "# Diz que mexer com eles talvez não seja tão importânte, ja que se mantém na proporção dos outros\n"
   ]
  },
  {
   "cell_type": "code",
   "execution_count": 16,
   "metadata": {},
   "outputs": [
    {
     "data": {
      "text/html": [
       "<div>\n",
       "<style scoped>\n",
       "    .dataframe tbody tr th:only-of-type {\n",
       "        vertical-align: middle;\n",
       "    }\n",
       "\n",
       "    .dataframe tbody tr th {\n",
       "        vertical-align: top;\n",
       "    }\n",
       "\n",
       "    .dataframe thead th {\n",
       "        text-align: right;\n",
       "    }\n",
       "</style>\n",
       "<table border=\"1\" class=\"dataframe\">\n",
       "  <thead>\n",
       "    <tr style=\"text-align: right;\">\n",
       "      <th></th>\n",
       "      <th>DVI_Connection</th>\n",
       "      <th>HDMI_Connection</th>\n",
       "      <th>Shader</th>\n",
       "      <th>TMUs</th>\n",
       "      <th>VGA_Connection</th>\n",
       "      <th>DirectX</th>\n",
       "    </tr>\n",
       "  </thead>\n",
       "  <tbody>\n",
       "    <tr>\n",
       "      <th>count</th>\n",
       "      <td>3180.000000</td>\n",
       "      <td>3180.000000</td>\n",
       "      <td>3180.000000</td>\n",
       "      <td>3180.000000</td>\n",
       "      <td>3180.000000</td>\n",
       "      <td>3180.000000</td>\n",
       "    </tr>\n",
       "    <tr>\n",
       "      <th>mean</th>\n",
       "      <td>0.918868</td>\n",
       "      <td>0.857547</td>\n",
       "      <td>4.750660</td>\n",
       "      <td>60.352201</td>\n",
       "      <td>0.166352</td>\n",
       "      <td>11.420755</td>\n",
       "    </tr>\n",
       "    <tr>\n",
       "      <th>std</th>\n",
       "      <td>0.273081</td>\n",
       "      <td>0.349569</td>\n",
       "      <td>0.637081</td>\n",
       "      <td>56.211906</td>\n",
       "      <td>0.389788</td>\n",
       "      <td>0.964130</td>\n",
       "    </tr>\n",
       "    <tr>\n",
       "      <th>min</th>\n",
       "      <td>0.000000</td>\n",
       "      <td>0.000000</td>\n",
       "      <td>1.000000</td>\n",
       "      <td>-1.000000</td>\n",
       "      <td>0.000000</td>\n",
       "      <td>8.000000</td>\n",
       "    </tr>\n",
       "    <tr>\n",
       "      <th>25%</th>\n",
       "      <td>1.000000</td>\n",
       "      <td>1.000000</td>\n",
       "      <td>5.000000</td>\n",
       "      <td>16.000000</td>\n",
       "      <td>0.000000</td>\n",
       "      <td>11.000000</td>\n",
       "    </tr>\n",
       "    <tr>\n",
       "      <th>50%</th>\n",
       "      <td>1.000000</td>\n",
       "      <td>1.000000</td>\n",
       "      <td>5.000000</td>\n",
       "      <td>48.000000</td>\n",
       "      <td>0.000000</td>\n",
       "      <td>12.000000</td>\n",
       "    </tr>\n",
       "    <tr>\n",
       "      <th>75%</th>\n",
       "      <td>1.000000</td>\n",
       "      <td>1.000000</td>\n",
       "      <td>5.000000</td>\n",
       "      <td>96.000000</td>\n",
       "      <td>0.000000</td>\n",
       "      <td>12.000000</td>\n",
       "    </tr>\n",
       "    <tr>\n",
       "      <th>max</th>\n",
       "      <td>1.000000</td>\n",
       "      <td>1.000000</td>\n",
       "      <td>5.000000</td>\n",
       "      <td>384.000000</td>\n",
       "      <td>4.000000</td>\n",
       "      <td>12.000000</td>\n",
       "    </tr>\n",
       "  </tbody>\n",
       "</table>\n",
       "</div>"
      ],
      "text/plain": [
       "       DVI_Connection  HDMI_Connection       Shader         TMUs  \\\n",
       "count     3180.000000      3180.000000  3180.000000  3180.000000   \n",
       "mean         0.918868         0.857547     4.750660    60.352201   \n",
       "std          0.273081         0.349569     0.637081    56.211906   \n",
       "min          0.000000         0.000000     1.000000    -1.000000   \n",
       "25%          1.000000         1.000000     5.000000    16.000000   \n",
       "50%          1.000000         1.000000     5.000000    48.000000   \n",
       "75%          1.000000         1.000000     5.000000    96.000000   \n",
       "max          1.000000         1.000000     5.000000   384.000000   \n",
       "\n",
       "       VGA_Connection      DirectX  \n",
       "count     3180.000000  3180.000000  \n",
       "mean         0.166352    11.420755  \n",
       "std          0.389788     0.964130  \n",
       "min          0.000000     8.000000  \n",
       "25%          0.000000    11.000000  \n",
       "50%          0.000000    12.000000  \n",
       "75%          0.000000    12.000000  \n",
       "max          4.000000    12.000000  "
      ]
     },
     "execution_count": 16,
     "metadata": {},
     "output_type": "execute_result"
    }
   ],
   "source": [
    "Dt3 = Dt2.copy()\n",
    "Dt3['DVI_Connection'] = Dt3['DVI_Connection'].apply(lambda x: 1 if x != 0 else 0)\n",
    "Dt3['HDMI_Connection'] = Dt3['HDMI_Connection'].apply(lambda x: 1 if x != 0 else 0)\n",
    "#Nos resta estudar TMUs e os shaders, irei trocar os valores nulos de TMUs por -1\n",
    "#Assim o modelo poderá entender quando que há um valor nulo na coluna TMUs\n",
    "#no caso dos shaders irei trocar pela moda também.\n",
    "Dt3['TMUs'] = Dt3['TMUs'].fillna(-1)\n",
    "Dt3['Shader'] = Dt3['Shader'].fillna(Dt2['Shader'].mode()[0])\n",
    "Dt3.describe()"
   ]
  },
  {
   "cell_type": "code",
   "execution_count": 17,
   "metadata": {},
   "outputs": [
    {
     "data": {
      "image/png": "[encoded data removed]",
      "text/plain": [
       "<Figure size 864x432 with 2 Axes>"
      ]
     },
     "metadata": {
      "needs_background": "light"
     },
     "output_type": "display_data"
    }
   ],
   "source": [
    "# Para finalizar, irei plotar graficos dos valores de shaders e TMUs para observar o quao bem ficou nossa abordagem\n",
    "x = []\n",
    "y = []\n",
    "for i in Dt3['Shader'].unique():\n",
    "    y.append(Dt3['DirectX'].loc[Dt3['Shader'] ==  i ].mean())\n",
    "    x.append(i)\n",
    "fig ,axes = plt.subplots(1,2, figsize = (12,6))\n",
    "\n",
    "\n",
    "sns.barplot( ax = axes[0],\n",
    "x = x,\n",
    "y = y\n",
    ")\n",
    "sns.histplot(data = Dt3,\n",
    "x = 'Shader',\n",
    "ax = axes[1]\n",
    ")\n",
    "axes[0].set_title('Média de DirectX por Shader')\n",
    "axes[1].set_title('Contagem de cada Shader ')\n",
    "axes[0].set_xlabel('Valor do Shader')\n",
    "axes[0].set_ylabel('Média do DirectX')\n",
    "axes[1].set_ylabel('Contagem')\n",
    "plt.show()\n"
   ]
  },
  {
   "cell_type": "code",
   "execution_count": 18,
   "metadata": {},
   "outputs": [
    {
     "data": {
      "image/png": "[encoded data removed]",
      "text/plain": [
       "<Figure size 864x432 with 2 Axes>"
      ]
     },
     "metadata": {
      "needs_background": "light"
     },
     "output_type": "display_data"
    }
   ],
   "source": [
    "fig ,axes = plt.subplots(1,2, figsize = (12,6))\n",
    "bins =[-50,0,50,100,150,200,250,300,400]\n",
    "clrs = ['null' if (x == -1) else 'Valor' for x in Dt3['TMUs'] ]\n",
    "pallete ={\n",
    "    'null' : 'red',\n",
    "    'Valor' : 'blue'\n",
    "}\n",
    "sns.lineplot(data = Dt3,\n",
    "ax = axes[0],\n",
    "x = 'TMUs',\n",
    "y = 'DirectX',\n",
    "hue = clrs,\n",
    "palette= pallete,\n",
    ")\n",
    "sns.histplot(data = Dt3,\n",
    "x = 'TMUs',\n",
    "ax = axes[1],\n",
    "bins = bins,\n",
    "hue=clrs,\n",
    "palette = pallete\n",
    ")\n",
    "axes[0].set_title('Média de DirectX por TMU')\n",
    "axes[1].set_title('Contagem de cada TMU ')\n",
    "axes[0].set_xlabel('Valor do TMU')\n",
    "axes[0].set_ylabel('Média do DirectX')\n",
    "axes[1].set_ylabel('Contagem')\n",
    "plt.show()"
   ]
  },
  {
   "cell_type": "markdown",
   "metadata": {},
   "source": [
    "### Valores Numéricos com tratamento necessário"
   ]
  },
  {
   "cell_type": "code",
   "execution_count": 19,
   "metadata": {},
   "outputs": [
    {
     "name": "stdout",
     "output_type": "stream",
     "text": [
      "<class 'pandas.core.frame.DataFrame'>\n",
      "RangeIndex: 3180 entries, 0 to 3179\n",
      "Data columns (total 28 columns):\n",
      " #   Column            Non-Null Count  Dtype  \n",
      "---  ------            --------------  -----  \n",
      " 0   Nome              3180 non-null   object \n",
      " 1   Best_Resolution   2650 non-null   object \n",
      " 2   Boost_Clock       1412 non-null   object \n",
      " 3   Core_Speed        3180 non-null   object \n",
      " 4   DVI_Connection    3180 non-null   int64  \n",
      " 5   Dedicated         3170 non-null   object \n",
      " 6   HDMI_Connection   3180 non-null   int64  \n",
      " 7   Integrated        3170 non-null   object \n",
      " 8   L2_Cache          3180 non-null   object \n",
      " 9   Max_Power         2633 non-null   object \n",
      " 10  Memory            2814 non-null   object \n",
      " 11  Memory_Bandwidth  3079 non-null   object \n",
      " 12  Memory_Bus        3133 non-null   object \n",
      " 13  Memory_Speed      3089 non-null   object \n",
      " 14  Memory_Type       3137 non-null   object \n",
      " 15  Notebook_GPU      3180 non-null   object \n",
      " 16  PSU               2129 non-null   object \n",
      " 17  Pixel_Rate        2735 non-null   object \n",
      " 18  Power_Connector   2534 non-null   object \n",
      " 19  Process           2806 non-null   object \n",
      " 20  ROPs              2739 non-null   object \n",
      " 21  Resolution_WxH    3030 non-null   object \n",
      " 22  SLI_Crossfire     3180 non-null   object \n",
      " 23  Shader            3180 non-null   float64\n",
      " 24  TMUs              3180 non-null   float64\n",
      " 25  Texture_Rate      2735 non-null   object \n",
      " 26  VGA_Connection    3180 non-null   float64\n",
      " 27  DirectX           3180 non-null   int64  \n",
      "dtypes: float64(3), int64(3), object(22)\n",
      "memory usage: 695.8+ KB\n"
     ]
    }
   ],
   "source": [
    "#novamente, plotarei os tipos de cada feature\n",
    "Dt3.info() # E agora com calma irei passar olhando por cada variavel"
   ]
  },
  {
   "cell_type": "code",
   "execution_count": 20,
   "metadata": {},
   "outputs": [
    {
     "data": {
      "text/html": [
       "<div>\n",
       "<style scoped>\n",
       "    .dataframe tbody tr th:only-of-type {\n",
       "        vertical-align: middle;\n",
       "    }\n",
       "\n",
       "    .dataframe tbody tr th {\n",
       "        vertical-align: top;\n",
       "    }\n",
       "\n",
       "    .dataframe thead th {\n",
       "        text-align: right;\n",
       "    }\n",
       "</style>\n",
       "<table border=\"1\" class=\"dataframe\">\n",
       "  <thead>\n",
       "    <tr style=\"text-align: right;\">\n",
       "      <th></th>\n",
       "      <th>Boost_Clock</th>\n",
       "      <th>Core_Speed</th>\n",
       "      <th>Max_Power</th>\n",
       "      <th>Memory</th>\n",
       "      <th>Memory_Bus</th>\n",
       "      <th>Memory_Speed</th>\n",
       "      <th>Pixel_Rate</th>\n",
       "      <th>Texture_Rate</th>\n",
       "    </tr>\n",
       "  </thead>\n",
       "  <tbody>\n",
       "    <tr>\n",
       "      <th>0</th>\n",
       "      <td>1253 MHz</td>\n",
       "      <td>1076 MHz</td>\n",
       "      <td>75 Watts</td>\n",
       "      <td>2048 MB</td>\n",
       "      <td>128 Bit</td>\n",
       "      <td>1653 MHz</td>\n",
       "      <td>40 GPixel/s</td>\n",
       "      <td>60 GTexel/s</td>\n",
       "    </tr>\n",
       "    <tr>\n",
       "      <th>1</th>\n",
       "      <td>NaN</td>\n",
       "      <td>\\n-</td>\n",
       "      <td>50 Watts</td>\n",
       "      <td>512 MB</td>\n",
       "      <td>128 Bit</td>\n",
       "      <td>800 MHz</td>\n",
       "      <td>NaN</td>\n",
       "      <td>NaN</td>\n",
       "    </tr>\n",
       "    <tr>\n",
       "      <th>2</th>\n",
       "      <td>NaN</td>\n",
       "      <td>810 MHz</td>\n",
       "      <td>45 Watts</td>\n",
       "      <td>2048 MB</td>\n",
       "      <td>128 Bit</td>\n",
       "      <td>900 MHz</td>\n",
       "      <td>13 GPixel/s</td>\n",
       "      <td>26 GTexel/s</td>\n",
       "    </tr>\n",
       "    <tr>\n",
       "      <th>3</th>\n",
       "      <td>1111 MHz</td>\n",
       "      <td>1046 MHz</td>\n",
       "      <td>NaN</td>\n",
       "      <td>2048 MB</td>\n",
       "      <td>192 Bit</td>\n",
       "      <td>1502 MHz</td>\n",
       "      <td>27 GPixel/s</td>\n",
       "      <td>89 GTexel/s</td>\n",
       "    </tr>\n",
       "    <tr>\n",
       "      <th>4</th>\n",
       "      <td>NaN</td>\n",
       "      <td>954 MHz</td>\n",
       "      <td>25 Watts</td>\n",
       "      <td>1024 MB</td>\n",
       "      <td>64 Bit</td>\n",
       "      <td>900 MHz</td>\n",
       "      <td>8 GPixel/s</td>\n",
       "      <td>31 GTexel/s</td>\n",
       "    </tr>\n",
       "    <tr>\n",
       "      <th>...</th>\n",
       "      <td>...</td>\n",
       "      <td>...</td>\n",
       "      <td>...</td>\n",
       "      <td>...</td>\n",
       "      <td>...</td>\n",
       "      <td>...</td>\n",
       "      <td>...</td>\n",
       "      <td>...</td>\n",
       "    </tr>\n",
       "    <tr>\n",
       "      <th>3175</th>\n",
       "      <td>1000 MHz</td>\n",
       "      <td>300 MHz</td>\n",
       "      <td>5 Watts</td>\n",
       "      <td>NaN</td>\n",
       "      <td>128 Bit</td>\n",
       "      <td>933 MHz</td>\n",
       "      <td>8 GPixel/s</td>\n",
       "      <td>16 GTexel/s</td>\n",
       "    </tr>\n",
       "    <tr>\n",
       "      <th>3176</th>\n",
       "      <td>NaN</td>\n",
       "      <td>775 MHz</td>\n",
       "      <td>NaN</td>\n",
       "      <td>1024 MB</td>\n",
       "      <td>128 Bit</td>\n",
       "      <td>1000 MHz</td>\n",
       "      <td>6 GPixel/s</td>\n",
       "      <td>16 GTexel/s</td>\n",
       "    </tr>\n",
       "    <tr>\n",
       "      <th>3177</th>\n",
       "      <td>NaN</td>\n",
       "      <td>820 MHz</td>\n",
       "      <td>NaN</td>\n",
       "      <td>1024 MB</td>\n",
       "      <td>256 Bit</td>\n",
       "      <td>1100 MHz</td>\n",
       "      <td>26 GPixel/s</td>\n",
       "      <td>39 GTexel/s</td>\n",
       "    </tr>\n",
       "    <tr>\n",
       "      <th>3178</th>\n",
       "      <td>NaN</td>\n",
       "      <td>850 MHz</td>\n",
       "      <td>NaN</td>\n",
       "      <td>2048 MB</td>\n",
       "      <td>128 Bit</td>\n",
       "      <td>800 MHz</td>\n",
       "      <td>14 GPixel/s</td>\n",
       "      <td>27 GTexel/s</td>\n",
       "    </tr>\n",
       "    <tr>\n",
       "      <th>3179</th>\n",
       "      <td>1582 MHz</td>\n",
       "      <td>1480 MHz</td>\n",
       "      <td>220 Watts</td>\n",
       "      <td>11264 MB</td>\n",
       "      <td>176 Bit</td>\n",
       "      <td>1376 MHz</td>\n",
       "      <td>152 GPixel/s</td>\n",
       "      <td>354 GTexel/s</td>\n",
       "    </tr>\n",
       "  </tbody>\n",
       "</table>\n",
       "<p>3180 rows × 8 columns</p>\n",
       "</div>"
      ],
      "text/plain": [
       "     Boost_Clock Core_Speed  Max_Power     Memory Memory_Bus Memory_Speed  \\\n",
       "0      1253 MHz    1076 MHz   75 Watts   2048 MB    128 Bit      1653 MHz   \n",
       "1            NaN       \\n-    50 Watts    512 MB    128 Bit       800 MHz   \n",
       "2            NaN    810 MHz   45 Watts   2048 MB    128 Bit       900 MHz   \n",
       "3      1111 MHz    1046 MHz        NaN   2048 MB    192 Bit      1502 MHz   \n",
       "4            NaN    954 MHz   25 Watts   1024 MB     64 Bit       900 MHz   \n",
       "...          ...        ...        ...        ...        ...          ...   \n",
       "3175   1000 MHz     300 MHz    5 Watts        NaN   128 Bit       933 MHz   \n",
       "3176         NaN    775 MHz        NaN   1024 MB    128 Bit      1000 MHz   \n",
       "3177         NaN    820 MHz        NaN   1024 MB    256 Bit      1100 MHz   \n",
       "3178         NaN    850 MHz        NaN   2048 MB    128 Bit       800 MHz   \n",
       "3179   1582 MHz    1480 MHz  220 Watts  11264 MB    176 Bit      1376 MHz   \n",
       "\n",
       "        Pixel_Rate  Texture_Rate  \n",
       "0      40 GPixel/s   60 GTexel/s  \n",
       "1              NaN           NaN  \n",
       "2      13 GPixel/s   26 GTexel/s  \n",
       "3      27 GPixel/s   89 GTexel/s  \n",
       "4       8 GPixel/s   31 GTexel/s  \n",
       "...            ...           ...  \n",
       "3175    8 GPixel/s   16 GTexel/s  \n",
       "3176    6 GPixel/s   16 GTexel/s  \n",
       "3177   26 GPixel/s   39 GTexel/s  \n",
       "3178   14 GPixel/s   27 GTexel/s  \n",
       "3179  152 GPixel/s  354 GTexel/s  \n",
       "\n",
       "[3180 rows x 8 columns]"
      ]
     },
     "execution_count": 20,
     "metadata": {},
     "output_type": "execute_result"
    }
   ],
   "source": [
    "#Para Agilizar o trabalho irei tentar computar os valores em grupos\n",
    "VarUM = ['Boost_Clock','Core_Speed','Max_Power','Memory','Memory_Bus','Memory_Speed','Pixel_Rate','Texture_Rate']\n",
    "Dt3[VarUM]\n",
    "# Estas são features cujos variaveis acompanham alguma unidade de medida, retira-las será razoavelmente facil\n",
    "#Nota-se estranhesa na coluna Core_speed que contém valores nulos do tipo \\n "
   ]
  },
  {
   "cell_type": "code",
   "execution_count": 21,
   "metadata": {},
   "outputs": [
    {
     "data": {
      "text/plain": [
       "1       \\n- \n",
       "10      \\n- \n",
       "27      \\n- \n",
       "29      \\n- \n",
       "35      \\n- \n",
       "        ... \n",
       "3157    \\n- \n",
       "3158    \\n- \n",
       "3166    \\n- \n",
       "3172      \\n\n",
       "3174    \\n- \n",
       "Name: Core_Speed, Length: 795, dtype: object"
      ]
     },
     "execution_count": 21,
     "metadata": {},
     "output_type": "execute_result"
    }
   ],
   "source": [
    "nf = Dt3['Core_Speed'].loc[Dt3['Core_Speed'].str.find('MHz') == -1].unique()\n",
    "Dt3['Core_Speed'].loc[Dt3['Core_Speed'].str.find('MHz') == -1] \n",
    "#Temos algumas linhas assim, salvei em uma variavel para trocar por um nulo adequado"
   ]
  },
  {
   "cell_type": "code",
   "execution_count": 22,
   "metadata": {},
   "outputs": [],
   "source": [
    "# Exemplo do Processo para converção à float de features do tipo objeto com uma string sem mexer nos valores nulos\n",
    "Dt4 = Dt3.copy()\n",
    "Dt4['Core_Speed'] = Dt4['Core_Speed'].apply(lambda x: np.nan if x in nf else x) #Trata os dados escritos de forma bizzarra\n",
    "Dt4['Boost_Clock'] = Dt4['Boost_Clock'].convert_dtypes() #Converte para o melhor tipo, neste caso string\n",
    "Dt4['Boost_Clock'] = Dt4['Boost_Clock'].fillna('0 mz') #Para podermos ignorar os valores nulos \n",
    "Dt4['Boost_Clock'] = Dt4['Boost_Clock'].apply(lambda x: x.split()[0]) #Separamos a parte que queremos\n",
    "Dt4['Boost_Clock'] = Dt4['Boost_Clock'].apply(lambda x: np.nan if x == '0'  else float(x)) #Voltamos ao dataset com nulos e ja convertemos para float\n"
   ]
  },
  {
   "cell_type": "code",
   "execution_count": 23,
   "metadata": {},
   "outputs": [
    {
     "name": "stdout",
     "output_type": "stream",
     "text": [
      "0       1253.0\n",
      "1          NaN\n",
      "2          NaN\n",
      "3       1111.0\n",
      "4          NaN\n",
      "         ...  \n",
      "3175    1000.0\n",
      "3176       NaN\n",
      "3177       NaN\n",
      "3178       NaN\n",
      "3179    1582.0\n",
      "Name: Boost_Clock, Length: 3180, dtype: float64 count    1412.000000\n",
      "mean     1205.971671\n",
      "std       253.409405\n",
      "min       400.000000\n",
      "25%      1050.000000\n",
      "50%      1176.000000\n",
      "75%      1317.000000\n",
      "max      1936.000000\n",
      "Name: Boost_Clock, dtype: float64\n"
     ]
    }
   ],
   "source": [
    "print(Dt4['Boost_Clock'],Dt4['Boost_Clock'].describe()) #Demonstrando a eficiencia do exemplo"
   ]
  },
  {
   "cell_type": "code",
   "execution_count": 24,
   "metadata": {},
   "outputs": [],
   "source": [
    "# E agora repetimos o processo para as outras colunas features listadas\n",
    "for column in VarUM:\n",
    "    Dt4[column] = Dt4[column].astype('string')\n",
    "    Dt4[column] = Dt4[column].fillna('0 um') \n",
    "    Dt4[column] = Dt4[column].apply(lambda x: x.split()[0]) \n",
    "    Dt4[column] = Dt4[column].apply(lambda x: np.nan if x == '0'  else float(x)) \n"
   ]
  },
  {
   "cell_type": "code",
   "execution_count": 25,
   "metadata": {},
   "outputs": [],
   "source": [
    "# Além destas também temos a feature process que não conseguimos trata-la exatamente assim por não conter espaço entre seu valor e sua UM\n",
    "# de forma extremamente analoga:\n",
    "Dt4['Process'] = Dt4['Process'].astype('string')\n",
    "Dt4['Process'] = Dt4['Process'].fillna('00um')\n",
    "Dt4['Process'] = Dt4['Process'].apply(lambda x: x[:2])\n",
    "Dt4['Process'] = Dt4['Process'].apply(lambda x: np.nan if x == '00' else float(x))\n"
   ]
  },
  {
   "cell_type": "markdown",
   "metadata": {},
   "source": [
    "#### PSU"
   ]
  },
  {
   "cell_type": "code",
   "execution_count": 26,
   "metadata": {},
   "outputs": [
    {
     "data": {
      "text/plain": [
       "0       350 Watt & 23 Amps\n",
       "1                      NaN\n",
       "2                      NaN\n",
       "3       450 Watt & 24 Amps\n",
       "4                      NaN\n",
       "               ...        \n",
       "3175                   NaN\n",
       "3176              400 Watt\n",
       "3177                   NaN\n",
       "3178              400 Watt\n",
       "3179    600 Watt & 42 Amps\n",
       "Name: PSU, Length: 3180, dtype: object"
      ]
     },
     "execution_count": 26,
     "metadata": {},
     "output_type": "execute_result"
    }
   ],
   "source": [
    "#Este caso é um pouco mais complicado por conter 2 valores\n",
    "Dt4['PSU'] # A ideia será tentar separa-lo em duas colunas"
   ]
  },
  {
   "cell_type": "code",
   "execution_count": 27,
   "metadata": {},
   "outputs": [],
   "source": [
    "Dt5 = Dt4.copy()\n",
    "Inter = Dt5['PSU'].str.split( '&', n =2 ,expand=True)\n",
    "Dt5.pop('PSU')\n",
    "Dt5['Watts'] = Inter[0]\n",
    "Dt5['Amps'] = Inter[1]\n",
    "Intercolum = ['Watts','Amps']\n"
   ]
  },
  {
   "cell_type": "code",
   "execution_count": 28,
   "metadata": {},
   "outputs": [],
   "source": [
    "for column in Intercolum:\n",
    "    Dt5[column] = Dt5[column].astype('string')\n",
    "    Dt5[column] = Dt5[column].fillna('0 um') \n",
    "    Dt5[column] = Dt5[column].apply(lambda x: x.split()[0]) \n",
    "    Dt5[column] = Dt5[column].apply(lambda x: np.nan if x == '0'  else float(x)) "
   ]
  },
  {
   "cell_type": "markdown",
   "metadata": {},
   "source": [
    "#### Voltando Ao EDA de valores numéricos"
   ]
  },
  {
   "cell_type": "code",
   "execution_count": 29,
   "metadata": {},
   "outputs": [
    {
     "data": {
      "text/html": [
       "<div>\n",
       "<style scoped>\n",
       "    .dataframe tbody tr th:only-of-type {\n",
       "        vertical-align: middle;\n",
       "    }\n",
       "\n",
       "    .dataframe tbody tr th {\n",
       "        vertical-align: top;\n",
       "    }\n",
       "\n",
       "    .dataframe thead th {\n",
       "        text-align: right;\n",
       "    }\n",
       "</style>\n",
       "<table border=\"1\" class=\"dataframe\">\n",
       "  <thead>\n",
       "    <tr style=\"text-align: right;\">\n",
       "      <th></th>\n",
       "      <th>Boost_Clock</th>\n",
       "      <th>Core_Speed</th>\n",
       "      <th>Max_Power</th>\n",
       "      <th>Memory</th>\n",
       "      <th>Memory_Bus</th>\n",
       "      <th>Memory_Speed</th>\n",
       "      <th>Pixel_Rate</th>\n",
       "      <th>Texture_Rate</th>\n",
       "      <th>Watts</th>\n",
       "      <th>Amps</th>\n",
       "      <th>Process</th>\n",
       "    </tr>\n",
       "  </thead>\n",
       "  <tbody>\n",
       "    <tr>\n",
       "      <th>count</th>\n",
       "      <td>1412.000000</td>\n",
       "      <td>2385.000000</td>\n",
       "      <td>2633.000000</td>\n",
       "      <td>2814.000000</td>\n",
       "      <td>3133.000000</td>\n",
       "      <td>3089.000000</td>\n",
       "      <td>2734.000000</td>\n",
       "      <td>2734.000000</td>\n",
       "      <td>2129.000000</td>\n",
       "      <td>1816.000000</td>\n",
       "      <td>2806.000000</td>\n",
       "    </tr>\n",
       "    <tr>\n",
       "      <th>mean</th>\n",
       "      <td>1205.971671</td>\n",
       "      <td>949.096855</td>\n",
       "      <td>127.045575</td>\n",
       "      <td>2954.345416</td>\n",
       "      <td>207.811044</td>\n",
       "      <td>1198.651020</td>\n",
       "      <td>35.504755</td>\n",
       "      <td>91.677762</td>\n",
       "      <td>475.984030</td>\n",
       "      <td>31.263767</td>\n",
       "      <td>30.637562</td>\n",
       "    </tr>\n",
       "    <tr>\n",
       "      <th>std</th>\n",
       "      <td>253.409405</td>\n",
       "      <td>274.621147</td>\n",
       "      <td>102.605966</td>\n",
       "      <td>2805.430732</td>\n",
       "      <td>261.690828</td>\n",
       "      <td>438.041301</td>\n",
       "      <td>36.587921</td>\n",
       "      <td>90.932219</td>\n",
       "      <td>124.182975</td>\n",
       "      <td>8.588437</td>\n",
       "      <td>12.746121</td>\n",
       "    </tr>\n",
       "    <tr>\n",
       "      <th>min</th>\n",
       "      <td>400.000000</td>\n",
       "      <td>100.000000</td>\n",
       "      <td>4.000000</td>\n",
       "      <td>16.000000</td>\n",
       "      <td>32.000000</td>\n",
       "      <td>110.000000</td>\n",
       "      <td>1.000000</td>\n",
       "      <td>1.000000</td>\n",
       "      <td>30.000000</td>\n",
       "      <td>12.000000</td>\n",
       "      <td>10.000000</td>\n",
       "    </tr>\n",
       "    <tr>\n",
       "      <th>25%</th>\n",
       "      <td>1050.000000</td>\n",
       "      <td>800.000000</td>\n",
       "      <td>49.000000</td>\n",
       "      <td>1024.000000</td>\n",
       "      <td>128.000000</td>\n",
       "      <td>900.000000</td>\n",
       "      <td>10.000000</td>\n",
       "      <td>24.000000</td>\n",
       "      <td>400.000000</td>\n",
       "      <td>26.000000</td>\n",
       "      <td>28.000000</td>\n",
       "    </tr>\n",
       "    <tr>\n",
       "      <th>50%</th>\n",
       "      <td>1176.000000</td>\n",
       "      <td>980.000000</td>\n",
       "      <td>108.000000</td>\n",
       "      <td>2048.000000</td>\n",
       "      <td>128.000000</td>\n",
       "      <td>1200.000000</td>\n",
       "      <td>26.000000</td>\n",
       "      <td>61.500000</td>\n",
       "      <td>500.000000</td>\n",
       "      <td>30.000000</td>\n",
       "      <td>28.000000</td>\n",
       "    </tr>\n",
       "    <tr>\n",
       "      <th>75%</th>\n",
       "      <td>1317.000000</td>\n",
       "      <td>1097.000000</td>\n",
       "      <td>175.000000</td>\n",
       "      <td>4096.000000</td>\n",
       "      <td>256.000000</td>\n",
       "      <td>1502.000000</td>\n",
       "      <td>43.000000</td>\n",
       "      <td>137.000000</td>\n",
       "      <td>500.000000</td>\n",
       "      <td>37.000000</td>\n",
       "      <td>40.000000</td>\n",
       "    </tr>\n",
       "    <tr>\n",
       "      <th>90%</th>\n",
       "      <td>1582.000000</td>\n",
       "      <td>1241.000000</td>\n",
       "      <td>250.000000</td>\n",
       "      <td>8192.000000</td>\n",
       "      <td>384.000000</td>\n",
       "      <td>1753.000000</td>\n",
       "      <td>84.000000</td>\n",
       "      <td>202.700000</td>\n",
       "      <td>600.000000</td>\n",
       "      <td>42.000000</td>\n",
       "      <td>40.000000</td>\n",
       "    </tr>\n",
       "    <tr>\n",
       "      <th>99%</th>\n",
       "      <td>1847.000000</td>\n",
       "      <td>1632.000000</td>\n",
       "      <td>500.000000</td>\n",
       "      <td>12288.000000</td>\n",
       "      <td>512.000000</td>\n",
       "      <td>2002.000000</td>\n",
       "      <td>152.000000</td>\n",
       "      <td>386.000000</td>\n",
       "      <td>800.000000</td>\n",
       "      <td>50.000000</td>\n",
       "      <td>80.000000</td>\n",
       "    </tr>\n",
       "    <tr>\n",
       "      <th>max</th>\n",
       "      <td>1936.000000</td>\n",
       "      <td>1784.000000</td>\n",
       "      <td>780.000000</td>\n",
       "      <td>32000.000000</td>\n",
       "      <td>8192.000000</td>\n",
       "      <td>2127.000000</td>\n",
       "      <td>260.000000</td>\n",
       "      <td>717.000000</td>\n",
       "      <td>1500.000000</td>\n",
       "      <td>127.000000</td>\n",
       "      <td>90.000000</td>\n",
       "    </tr>\n",
       "  </tbody>\n",
       "</table>\n",
       "</div>"
      ],
      "text/plain": [
       "       Boost_Clock   Core_Speed    Max_Power        Memory   Memory_Bus  \\\n",
       "count  1412.000000  2385.000000  2633.000000   2814.000000  3133.000000   \n",
       "mean   1205.971671   949.096855   127.045575   2954.345416   207.811044   \n",
       "std     253.409405   274.621147   102.605966   2805.430732   261.690828   \n",
       "min     400.000000   100.000000     4.000000     16.000000    32.000000   \n",
       "25%    1050.000000   800.000000    49.000000   1024.000000   128.000000   \n",
       "50%    1176.000000   980.000000   108.000000   2048.000000   128.000000   \n",
       "75%    1317.000000  1097.000000   175.000000   4096.000000   256.000000   \n",
       "90%    1582.000000  1241.000000   250.000000   8192.000000   384.000000   \n",
       "99%    1847.000000  1632.000000   500.000000  12288.000000   512.000000   \n",
       "max    1936.000000  1784.000000   780.000000  32000.000000  8192.000000   \n",
       "\n",
       "       Memory_Speed   Pixel_Rate  Texture_Rate        Watts         Amps  \\\n",
       "count   3089.000000  2734.000000   2734.000000  2129.000000  1816.000000   \n",
       "mean    1198.651020    35.504755     91.677762   475.984030    31.263767   \n",
       "std      438.041301    36.587921     90.932219   124.182975     8.588437   \n",
       "min      110.000000     1.000000      1.000000    30.000000    12.000000   \n",
       "25%      900.000000    10.000000     24.000000   400.000000    26.000000   \n",
       "50%     1200.000000    26.000000     61.500000   500.000000    30.000000   \n",
       "75%     1502.000000    43.000000    137.000000   500.000000    37.000000   \n",
       "90%     1753.000000    84.000000    202.700000   600.000000    42.000000   \n",
       "99%     2002.000000   152.000000    386.000000   800.000000    50.000000   \n",
       "max     2127.000000   260.000000    717.000000  1500.000000   127.000000   \n",
       "\n",
       "           Process  \n",
       "count  2806.000000  \n",
       "mean     30.637562  \n",
       "std      12.746121  \n",
       "min      10.000000  \n",
       "25%      28.000000  \n",
       "50%      28.000000  \n",
       "75%      40.000000  \n",
       "90%      40.000000  \n",
       "99%      80.000000  \n",
       "max      90.000000  "
      ]
     },
     "execution_count": 29,
     "metadata": {},
     "output_type": "execute_result"
    }
   ],
   "source": [
    "TdsvarUM = ['Boost_Clock','Core_Speed','Max_Power','Memory','Memory_Bus','Memory_Speed','Pixel_Rate','Texture_Rate','Watts','Amps','Process']\n",
    "Dt5[TdsvarUM].describe(percentiles= (.25,.75,.9,.99))"
   ]
  },
  {
   "cell_type": "code",
   "execution_count": 30,
   "metadata": {},
   "outputs": [
    {
     "data": {
      "text/plain": [
       "Process           -0.549837\n",
       "VGA_Connection    -0.179699\n",
       "DVI_Connection     0.124416\n",
       "Watts              0.173230\n",
       "Amps               0.181122\n",
       "Boost_Clock        0.213832\n",
       "Memory_Bus         0.269490\n",
       "Max_Power          0.379073\n",
       "HDMI_Connection    0.427144\n",
       "Core_Speed         0.463566\n",
       "Texture_Rate       0.477909\n",
       "Pixel_Rate         0.481298\n",
       "Memory             0.625216\n",
       "TMUs               0.631120\n",
       "Memory_Speed       0.649304\n",
       "Shader             0.775987\n",
       "DirectX            1.000000\n",
       "Name: DirectX, dtype: float64"
      ]
     },
     "execution_count": 30,
     "metadata": {},
     "output_type": "execute_result"
    }
   ],
   "source": [
    "Dt5.corr(method = 'spearman')['DirectX'].sort_values()"
   ]
  },
  {
   "cell_type": "code",
   "execution_count": 31,
   "metadata": {},
   "outputs": [
    {
     "data": {
      "image/png": "[encoded data removed]",
      "text/plain": [
       "<Figure size 1152x720 with 2 Axes>"
      ]
     },
     "metadata": {
      "needs_background": "light"
     },
     "output_type": "display_data"
    }
   ],
   "source": [
    "cmap = sns.color_palette(\"rainbow\", as_cmap=True)\n",
    "fig , ax = plt.subplots(figsize = (16,10))\n",
    "sns.heatmap(\n",
    "    Dt5.corr(method='spearman'), \n",
    "    vmin = -1,\n",
    "    vmax = 1,\n",
    "    cmap = cmap,\n",
    "    linewidths = .5,\n",
    "    ax= ax\n",
    "    )\n",
    "plt.show()"
   ]
  },
  {
   "cell_type": "code",
   "execution_count": 32,
   "metadata": {},
   "outputs": [
    {
     "name": "stdout",
     "output_type": "stream",
     "text": [
      "<class 'pandas.core.frame.DataFrame'>\n",
      "RangeIndex: 3180 entries, 0 to 3179\n",
      "Data columns (total 11 columns):\n",
      " #   Column        Non-Null Count  Dtype  \n",
      "---  ------        --------------  -----  \n",
      " 0   Boost_Clock   1412 non-null   float64\n",
      " 1   Core_Speed    2385 non-null   float64\n",
      " 2   Max_Power     2633 non-null   float64\n",
      " 3   Memory        2814 non-null   float64\n",
      " 4   Memory_Bus    3133 non-null   float64\n",
      " 5   Memory_Speed  3089 non-null   float64\n",
      " 6   Pixel_Rate    2734 non-null   float64\n",
      " 7   Texture_Rate  2734 non-null   float64\n",
      " 8   Watts         2129 non-null   float64\n",
      " 9   Amps          1816 non-null   float64\n",
      " 10  Process       2806 non-null   float64\n",
      "dtypes: float64(11)\n",
      "memory usage: 273.4 KB\n"
     ]
    }
   ],
   "source": [
    "Dt5[TdsvarUM].info()"
   ]
  },
  {
   "cell_type": "markdown",
   "metadata": {},
   "source": [
    "### Valores Categóricos"
   ]
  },
  {
   "cell_type": "code",
   "execution_count": 33,
   "metadata": {},
   "outputs": [
    {
     "name": "stdout",
     "output_type": "stream",
     "text": [
      "<class 'pandas.core.frame.DataFrame'>\n",
      "RangeIndex: 3180 entries, 0 to 3179\n",
      "Data columns (total 29 columns):\n",
      " #   Column            Non-Null Count  Dtype  \n",
      "---  ------            --------------  -----  \n",
      " 0   Nome              3180 non-null   object \n",
      " 1   Best_Resolution   2650 non-null   object \n",
      " 2   Boost_Clock       1412 non-null   float64\n",
      " 3   Core_Speed        2385 non-null   float64\n",
      " 4   DVI_Connection    3180 non-null   int64  \n",
      " 5   Dedicated         3170 non-null   object \n",
      " 6   HDMI_Connection   3180 non-null   int64  \n",
      " 7   Integrated        3170 non-null   object \n",
      " 8   L2_Cache          3180 non-null   object \n",
      " 9   Max_Power         2633 non-null   float64\n",
      " 10  Memory            2814 non-null   float64\n",
      " 11  Memory_Bandwidth  3079 non-null   object \n",
      " 12  Memory_Bus        3133 non-null   float64\n",
      " 13  Memory_Speed      3089 non-null   float64\n",
      " 14  Memory_Type       3137 non-null   object \n",
      " 15  Notebook_GPU      3180 non-null   object \n",
      " 16  Pixel_Rate        2734 non-null   float64\n",
      " 17  Power_Connector   2534 non-null   object \n",
      " 18  Process           2806 non-null   float64\n",
      " 19  ROPs              2739 non-null   object \n",
      " 20  Resolution_WxH    3030 non-null   object \n",
      " 21  SLI_Crossfire     3180 non-null   object \n",
      " 22  Shader            3180 non-null   float64\n",
      " 23  TMUs              3180 non-null   float64\n",
      " 24  Texture_Rate      2734 non-null   float64\n",
      " 25  VGA_Connection    3180 non-null   float64\n",
      " 26  DirectX           3180 non-null   int64  \n",
      " 27  Watts             2129 non-null   float64\n",
      " 28  Amps              1816 non-null   float64\n",
      "dtypes: float64(14), int64(3), object(12)\n",
      "memory usage: 720.6+ KB\n"
     ]
    }
   ],
   "source": [
    "#Novamente, separando os dados em um grupo\n",
    "Dt5.info()"
   ]
  },
  {
   "cell_type": "code",
   "execution_count": 34,
   "metadata": {},
   "outputs": [
    {
     "data": {
      "text/html": [
       "<div>\n",
       "<style scoped>\n",
       "    .dataframe tbody tr th:only-of-type {\n",
       "        vertical-align: middle;\n",
       "    }\n",
       "\n",
       "    .dataframe tbody tr th {\n",
       "        vertical-align: top;\n",
       "    }\n",
       "\n",
       "    .dataframe thead th {\n",
       "        text-align: right;\n",
       "    }\n",
       "</style>\n",
       "<table border=\"1\" class=\"dataframe\">\n",
       "  <thead>\n",
       "    <tr style=\"text-align: right;\">\n",
       "      <th></th>\n",
       "      <th>Dedicated</th>\n",
       "      <th>Integrated</th>\n",
       "      <th>Memory_Type</th>\n",
       "      <th>Notebook_GPU</th>\n",
       "      <th>Power_Connector</th>\n",
       "      <th>SLI_Crossfire</th>\n",
       "    </tr>\n",
       "  </thead>\n",
       "  <tbody>\n",
       "    <tr>\n",
       "      <th>0</th>\n",
       "      <td>Yes</td>\n",
       "      <td>No</td>\n",
       "      <td>GDDR5</td>\n",
       "      <td>No</td>\n",
       "      <td>None</td>\n",
       "      <td>Yes</td>\n",
       "    </tr>\n",
       "    <tr>\n",
       "      <th>1</th>\n",
       "      <td>Yes</td>\n",
       "      <td>No</td>\n",
       "      <td>GDDR3</td>\n",
       "      <td>Yes</td>\n",
       "      <td>NaN</td>\n",
       "      <td>No</td>\n",
       "    </tr>\n",
       "    <tr>\n",
       "      <th>2</th>\n",
       "      <td>Yes</td>\n",
       "      <td>No</td>\n",
       "      <td>DDR3</td>\n",
       "      <td>Yes</td>\n",
       "      <td>NaN</td>\n",
       "      <td>No</td>\n",
       "    </tr>\n",
       "    <tr>\n",
       "      <th>3</th>\n",
       "      <td>Yes</td>\n",
       "      <td>No</td>\n",
       "      <td>GDDR5</td>\n",
       "      <td>No</td>\n",
       "      <td>None</td>\n",
       "      <td>Yes</td>\n",
       "    </tr>\n",
       "    <tr>\n",
       "      <th>4</th>\n",
       "      <td>Yes</td>\n",
       "      <td>No</td>\n",
       "      <td>DDR3</td>\n",
       "      <td>Yes</td>\n",
       "      <td>NaN</td>\n",
       "      <td>No</td>\n",
       "    </tr>\n",
       "    <tr>\n",
       "      <th>...</th>\n",
       "      <td>...</td>\n",
       "      <td>...</td>\n",
       "      <td>...</td>\n",
       "      <td>...</td>\n",
       "      <td>...</td>\n",
       "      <td>...</td>\n",
       "    </tr>\n",
       "    <tr>\n",
       "      <th>3175</th>\n",
       "      <td>No</td>\n",
       "      <td>Yes</td>\n",
       "      <td>DDR3</td>\n",
       "      <td>Yes</td>\n",
       "      <td>NaN</td>\n",
       "      <td>No</td>\n",
       "    </tr>\n",
       "    <tr>\n",
       "      <th>3176</th>\n",
       "      <td>Yes</td>\n",
       "      <td>No</td>\n",
       "      <td>GDDR5</td>\n",
       "      <td>No</td>\n",
       "      <td>None</td>\n",
       "      <td>Yes</td>\n",
       "    </tr>\n",
       "    <tr>\n",
       "      <th>3177</th>\n",
       "      <td>Yes</td>\n",
       "      <td>No</td>\n",
       "      <td>GDDR5</td>\n",
       "      <td>No</td>\n",
       "      <td>None</td>\n",
       "      <td>Yes</td>\n",
       "    </tr>\n",
       "    <tr>\n",
       "      <th>3178</th>\n",
       "      <td>Yes</td>\n",
       "      <td>No</td>\n",
       "      <td>DDR3</td>\n",
       "      <td>No</td>\n",
       "      <td>None</td>\n",
       "      <td>Yes</td>\n",
       "    </tr>\n",
       "    <tr>\n",
       "      <th>3179</th>\n",
       "      <td>Yes</td>\n",
       "      <td>No</td>\n",
       "      <td>GDDR5X</td>\n",
       "      <td>No</td>\n",
       "      <td>1x 6-pin + 1x 8-pin</td>\n",
       "      <td>Yes</td>\n",
       "    </tr>\n",
       "  </tbody>\n",
       "</table>\n",
       "<p>3180 rows × 6 columns</p>\n",
       "</div>"
      ],
      "text/plain": [
       "     Dedicated Integrated Memory_Type Notebook_GPU       Power_Connector  \\\n",
       "0          Yes         No       GDDR5           No                 None    \n",
       "1          Yes         No       GDDR3          Yes                   NaN   \n",
       "2          Yes         No        DDR3          Yes                   NaN   \n",
       "3          Yes         No       GDDR5           No                 None    \n",
       "4          Yes         No        DDR3          Yes                   NaN   \n",
       "...        ...        ...         ...          ...                   ...   \n",
       "3175        No        Yes        DDR3          Yes                   NaN   \n",
       "3176       Yes         No       GDDR5           No                 None    \n",
       "3177       Yes         No       GDDR5           No                 None    \n",
       "3178       Yes         No        DDR3           No                 None    \n",
       "3179       Yes         No      GDDR5X           No  1x 6-pin + 1x 8-pin    \n",
       "\n",
       "     SLI_Crossfire  \n",
       "0              Yes  \n",
       "1               No  \n",
       "2               No  \n",
       "3              Yes  \n",
       "4               No  \n",
       "...            ...  \n",
       "3175            No  \n",
       "3176           Yes  \n",
       "3177           Yes  \n",
       "3178           Yes  \n",
       "3179           Yes  \n",
       "\n",
       "[3180 rows x 6 columns]"
      ]
     },
     "execution_count": 34,
     "metadata": {},
     "output_type": "execute_result"
    }
   ],
   "source": [
    "catvar = ['Dedicated','Integrated','Memory_Type','Notebook_GPU','Power_Connector','SLI_Crossfire']\n",
    "Dt5[catvar] # De forma simples, aplicaremos um label encoder neles"
   ]
  },
  {
   "cell_type": "code",
   "execution_count": 35,
   "metadata": {},
   "outputs": [
    {
     "data": {
      "text/html": [
       "<div>\n",
       "<style scoped>\n",
       "    .dataframe tbody tr th:only-of-type {\n",
       "        vertical-align: middle;\n",
       "    }\n",
       "\n",
       "    .dataframe tbody tr th {\n",
       "        vertical-align: top;\n",
       "    }\n",
       "\n",
       "    .dataframe thead th {\n",
       "        text-align: right;\n",
       "    }\n",
       "</style>\n",
       "<table border=\"1\" class=\"dataframe\">\n",
       "  <thead>\n",
       "    <tr style=\"text-align: right;\">\n",
       "      <th></th>\n",
       "      <th>Dedicated</th>\n",
       "      <th>Integrated</th>\n",
       "      <th>Memory_Type</th>\n",
       "      <th>Notebook_GPU</th>\n",
       "      <th>Power_Connector</th>\n",
       "      <th>SLI_Crossfire</th>\n",
       "    </tr>\n",
       "  </thead>\n",
       "  <tbody>\n",
       "    <tr>\n",
       "      <th>0</th>\n",
       "      <td>1.0</td>\n",
       "      <td>0.0</td>\n",
       "      <td>7.0</td>\n",
       "      <td>0.0</td>\n",
       "      <td>9.0</td>\n",
       "      <td>1.0</td>\n",
       "    </tr>\n",
       "    <tr>\n",
       "      <th>1</th>\n",
       "      <td>1.0</td>\n",
       "      <td>0.0</td>\n",
       "      <td>5.0</td>\n",
       "      <td>1.0</td>\n",
       "      <td>NaN</td>\n",
       "      <td>0.0</td>\n",
       "    </tr>\n",
       "    <tr>\n",
       "      <th>2</th>\n",
       "      <td>1.0</td>\n",
       "      <td>0.0</td>\n",
       "      <td>2.0</td>\n",
       "      <td>1.0</td>\n",
       "      <td>NaN</td>\n",
       "      <td>0.0</td>\n",
       "    </tr>\n",
       "    <tr>\n",
       "      <th>3</th>\n",
       "      <td>1.0</td>\n",
       "      <td>0.0</td>\n",
       "      <td>7.0</td>\n",
       "      <td>0.0</td>\n",
       "      <td>9.0</td>\n",
       "      <td>1.0</td>\n",
       "    </tr>\n",
       "    <tr>\n",
       "      <th>4</th>\n",
       "      <td>1.0</td>\n",
       "      <td>0.0</td>\n",
       "      <td>2.0</td>\n",
       "      <td>1.0</td>\n",
       "      <td>NaN</td>\n",
       "      <td>0.0</td>\n",
       "    </tr>\n",
       "    <tr>\n",
       "      <th>...</th>\n",
       "      <td>...</td>\n",
       "      <td>...</td>\n",
       "      <td>...</td>\n",
       "      <td>...</td>\n",
       "      <td>...</td>\n",
       "      <td>...</td>\n",
       "    </tr>\n",
       "    <tr>\n",
       "      <th>3175</th>\n",
       "      <td>0.0</td>\n",
       "      <td>1.0</td>\n",
       "      <td>2.0</td>\n",
       "      <td>1.0</td>\n",
       "      <td>NaN</td>\n",
       "      <td>0.0</td>\n",
       "    </tr>\n",
       "    <tr>\n",
       "      <th>3176</th>\n",
       "      <td>1.0</td>\n",
       "      <td>0.0</td>\n",
       "      <td>7.0</td>\n",
       "      <td>0.0</td>\n",
       "      <td>9.0</td>\n",
       "      <td>1.0</td>\n",
       "    </tr>\n",
       "    <tr>\n",
       "      <th>3177</th>\n",
       "      <td>1.0</td>\n",
       "      <td>0.0</td>\n",
       "      <td>7.0</td>\n",
       "      <td>0.0</td>\n",
       "      <td>9.0</td>\n",
       "      <td>1.0</td>\n",
       "    </tr>\n",
       "    <tr>\n",
       "      <th>3178</th>\n",
       "      <td>1.0</td>\n",
       "      <td>0.0</td>\n",
       "      <td>2.0</td>\n",
       "      <td>0.0</td>\n",
       "      <td>9.0</td>\n",
       "      <td>1.0</td>\n",
       "    </tr>\n",
       "    <tr>\n",
       "      <th>3179</th>\n",
       "      <td>1.0</td>\n",
       "      <td>0.0</td>\n",
       "      <td>8.0</td>\n",
       "      <td>0.0</td>\n",
       "      <td>2.0</td>\n",
       "      <td>1.0</td>\n",
       "    </tr>\n",
       "  </tbody>\n",
       "</table>\n",
       "<p>3180 rows × 6 columns</p>\n",
       "</div>"
      ],
      "text/plain": [
       "      Dedicated  Integrated  Memory_Type  Notebook_GPU  Power_Connector  \\\n",
       "0           1.0         0.0          7.0           0.0              9.0   \n",
       "1           1.0         0.0          5.0           1.0              NaN   \n",
       "2           1.0         0.0          2.0           1.0              NaN   \n",
       "3           1.0         0.0          7.0           0.0              9.0   \n",
       "4           1.0         0.0          2.0           1.0              NaN   \n",
       "...         ...         ...          ...           ...              ...   \n",
       "3175        0.0         1.0          2.0           1.0              NaN   \n",
       "3176        1.0         0.0          7.0           0.0              9.0   \n",
       "3177        1.0         0.0          7.0           0.0              9.0   \n",
       "3178        1.0         0.0          2.0           0.0              9.0   \n",
       "3179        1.0         0.0          8.0           0.0              2.0   \n",
       "\n",
       "      SLI_Crossfire  \n",
       "0               1.0  \n",
       "1               0.0  \n",
       "2               0.0  \n",
       "3               1.0  \n",
       "4               0.0  \n",
       "...             ...  \n",
       "3175            0.0  \n",
       "3176            1.0  \n",
       "3177            1.0  \n",
       "3178            1.0  \n",
       "3179            1.0  \n",
       "\n",
       "[3180 rows x 6 columns]"
      ]
     },
     "execution_count": 35,
     "metadata": {},
     "output_type": "execute_result"
    }
   ],
   "source": [
    "from sklearn.preprocessing import OrdinalEncoder\n",
    "Dt6 = Dt5.copy()\n",
    "Le = OrdinalEncoder()\n",
    "Dt6[catvar] = Le.fit_transform(Dt6[catvar])\n",
    "Dt6[catvar]"
   ]
  },
  {
   "cell_type": "code",
   "execution_count": 36,
   "metadata": {},
   "outputs": [
    {
     "data": {
      "text/plain": [
       "Power_Connector   -0.327048\n",
       "Integrated        -0.292350\n",
       "Notebook_GPU      -0.273725\n",
       "SLI_Crossfire      0.256617\n",
       "Dedicated          0.292350\n",
       "Memory_Type        0.606223\n",
       "DirectX            1.000000\n",
       "Name: DirectX, dtype: float64"
      ]
     },
     "execution_count": 36,
     "metadata": {},
     "output_type": "execute_result"
    }
   ],
   "source": [
    "catvar2 = catvar.copy()\n",
    "catvar2.append('DirectX')\n",
    "Dt6[catvar2].corr(method = 'spearman')['DirectX'].sort_values()"
   ]
  },
  {
   "cell_type": "markdown",
   "metadata": {},
   "source": [
    "### O Restante"
   ]
  },
  {
   "cell_type": "markdown",
   "metadata": {},
   "source": [
    "Deves ter percebido que não tratamos todas as features do dataset ainda. Então quais faltam? Essas features que tratarei a seguir infelizmente eu não sei tratar elas de uma forma tão simples quanto as outras, então estarei tentando pelo menos reduzir o tratamento delas a uma celula cada:"
   ]
  },
  {
   "cell_type": "code",
   "execution_count": 37,
   "metadata": {},
   "outputs": [
    {
     "data": {
      "text/plain": [
       "0       2073600.0\n",
       "1             NaN\n",
       "2       1049088.0\n",
       "3       2073600.0\n",
       "4       1049088.0\n",
       "          ...    \n",
       "3175    1049088.0\n",
       "3176    1296000.0\n",
       "3177    1764000.0\n",
       "3178          NaN\n",
       "3179    8294400.0\n",
       "Name: Best_Resolution, Length: 3180, dtype: float64"
      ]
     },
     "execution_count": 37,
     "metadata": {},
     "output_type": "execute_result"
    }
   ],
   "source": [
    "## Best_Resolution:\n",
    "Dt7 = Dt6.copy()\n",
    "Dt7['Best_Resolution'] = Dt7['Best_Resolution'].apply(lambda x: x if type(x) == float else int(x.split('x')[0]) * int(x.split('x')[1]) )\n",
    "Dt7['Best_Resolution']"
   ]
  },
  {
   "cell_type": "code",
   "execution_count": 38,
   "metadata": {},
   "outputs": [
    {
     "data": {
      "text/plain": [
       "0        1\n",
       "1        0\n",
       "2        2\n",
       "3        3\n",
       "4        1\n",
       "        ..\n",
       "3175     5\n",
       "3176     2\n",
       "3177     5\n",
       "3178     5\n",
       "3179    11\n",
       "Name: L2_Cache, Length: 3180, dtype: int32"
      ]
     },
     "execution_count": 38,
     "metadata": {},
     "output_type": "execute_result"
    }
   ],
   "source": [
    "#L2_cache\n",
    "def l2(x):\n",
    "    if type(x) == float:\n",
    "        return x\n",
    "    if x.find('x2') != -1:\n",
    "        x.split('k')\n",
    "        return(x[0]*2)\n",
    "    else:\n",
    "        x.split('k')\n",
    "        return(x[0])\n",
    "Dt7['L2_Cache'] = Dt7['L2_Cache'].apply(l2)\n",
    "Dt7['L2_Cache'].astype(int)"
   ]
  },
  {
   "cell_type": "code",
   "execution_count": 39,
   "metadata": {},
   "outputs": [
    {
     "data": {
      "text/plain": [
       "0       105.8\n",
       "1        25.6\n",
       "2        28.8\n",
       "3       144.2\n",
       "4        14.4\n",
       "        ...  \n",
       "3175     29.9\n",
       "3176     64.0\n",
       "3177    140.8\n",
       "3178     25.6\n",
       "3179    484.4\n",
       "Name: Memory_Bandwidth, Length: 3180, dtype: float64"
      ]
     },
     "execution_count": 39,
     "metadata": {},
     "output_type": "execute_result"
    }
   ],
   "source": [
    "#Memory_BandWidth\n",
    "def membad(x):\n",
    "    if type(x) == float:\n",
    "        return x\n",
    "    if x.find('G') == -1:\n",
    "        if x.find('M') == -1:\n",
    "            return float(x)\n",
    "        else:\n",
    "            return x.split('M')[0]\n",
    "    else:\n",
    "        return x.split('G')[0]\n",
    "Dt7['Memory_Bandwidth'] = Dt7['Memory_Bandwidth'].apply(membad)\n",
    "Dt7['Memory_Bandwidth'].astype(float)"
   ]
  },
  {
   "cell_type": "code",
   "execution_count": 40,
   "metadata": {},
   "outputs": [
    {
     "data": {
      "text/plain": [
       "0         3\n",
       "1       NaN\n",
       "2         1\n",
       "3         2\n",
       "4         8\n",
       "       ... \n",
       "3175      8\n",
       "3176      8\n",
       "3177      3\n",
       "3178      1\n",
       "3179     44\n",
       "Name: ROPs, Length: 3180, dtype: object"
      ]
     },
     "execution_count": 40,
     "metadata": {},
     "output_type": "execute_result"
    }
   ],
   "source": [
    "#ROPs\n",
    "def rop(x):\n",
    "    if type(x) == float:\n",
    "        return x\n",
    "    if x.find('x2') != -1:\n",
    "        x.split('(')\n",
    "        return(x[0]*2)\n",
    "    else:\n",
    "         x.split('(')\n",
    "         return(x[0])\n",
    "Dt7['ROPs'] = Dt7['ROPs'].apply(rop)\n",
    "Dt7['ROPs']"
   ]
  },
  {
   "cell_type": "code",
   "execution_count": 41,
   "metadata": {},
   "outputs": [
    {
     "data": {
      "text/plain": [
       "0       16384000.0\n",
       "1        4096000.0\n",
       "2        8847360.0\n",
       "3        8847360.0\n",
       "4        8847360.0\n",
       "           ...    \n",
       "3175     9437184.0\n",
       "3176     4096000.0\n",
       "3177     4096000.0\n",
       "3178     8847360.0\n",
       "3179    24576000.0\n",
       "Name: Resolution_WxH, Length: 3180, dtype: float64"
      ]
     },
     "execution_count": 41,
     "metadata": {},
     "output_type": "execute_result"
    }
   ],
   "source": [
    "#Resolution WxH\n",
    "Dt7['Resolution_WxH'] = Dt7['Resolution_WxH'].apply(lambda x: x if type(x) == float else int(x.split('x')[0]) * int(x.split('x')[1]) )\n",
    "Dt7['Resolution_WxH']"
   ]
  },
  {
   "cell_type": "markdown",
   "metadata": {},
   "source": [
    "#### Colunas de valores nulos"
   ]
  },
  {
   "cell_type": "code",
   "execution_count": 42,
   "metadata": {},
   "outputs": [
    {
     "data": {
      "text/plain": [
       "Index(['Nome', 'Best_Resolution', 'Boost_Clock', 'Core_Speed',\n",
       "       'DVI_Connection', 'Dedicated', 'HDMI_Connection', 'Integrated',\n",
       "       'L2_Cache', 'Max_Power', 'Memory', 'Memory_Bandwidth', 'Memory_Bus',\n",
       "       'Memory_Speed', 'Memory_Type', 'Notebook_GPU', 'Pixel_Rate',\n",
       "       'Power_Connector', 'Process', 'ROPs', 'Resolution_WxH', 'SLI_Crossfire',\n",
       "       'Shader', 'TMUs', 'Texture_Rate', 'VGA_Connection', 'DirectX', 'Watts',\n",
       "       'Amps', 'Best_Resolutionnull', 'Memory_Speednull', 'Pixel_Ratenull',\n",
       "       'Processnull', 'ROPsnull', 'Resolution_WxHnull', 'Texture_Ratenull'],\n",
       "      dtype='object')"
      ]
     },
     "execution_count": 42,
     "metadata": {},
     "output_type": "execute_result"
    }
   ],
   "source": [
    "for column in importantnull:\n",
    "    if column != \"TMUs\":\n",
    "     Dt7[column+'null'] = Dt7[column].fillna('null')\n",
    "     Dt7[column+'null'] = Dt7[column+'null'].apply(lambda x: 1 if x == 'null' else 0 )\n",
    "Dt7.columns\n"
   ]
  },
  {
   "cell_type": "markdown",
   "metadata": {},
   "source": [
    "### Fim do EDA"
   ]
  },
  {
   "cell_type": "code",
   "execution_count": 43,
   "metadata": {},
   "outputs": [
    {
     "data": {
      "image/png": "[encoded data removed]",
      "text/plain": [
       "<Figure size 1152x720 with 2 Axes>"
      ]
     },
     "metadata": {
      "needs_background": "light"
     },
     "output_type": "display_data"
    }
   ],
   "source": [
    "cmap = sns.color_palette(\"rainbow\", as_cmap=True)\n",
    "fig , ax = plt.subplots(figsize = (16,10))\n",
    "sns.heatmap(\n",
    "    Dt7.corr(method='spearman'), \n",
    "    vmin = -1,\n",
    "    vmax = 1,\n",
    "    cmap = cmap,\n",
    "    linewidths = .5,\n",
    "    ax= ax\n",
    "    )\n",
    "plt.show()"
   ]
  },
  {
   "cell_type": "code",
   "execution_count": 44,
   "metadata": {},
   "outputs": [
    {
     "data": {
      "text/plain": [
       "Best_Resolutionnull   -0.661538\n",
       "Texture_Ratenull      -0.635856\n",
       "Pixel_Ratenull        -0.635856\n",
       "ROPsnull              -0.635450\n",
       "Processnull           -0.612303\n",
       "Process               -0.549837\n",
       "Resolution_WxHnull    -0.363100\n",
       "Power_Connector       -0.327048\n",
       "Integrated            -0.292350\n",
       "Notebook_GPU          -0.273725\n",
       "Memory_Speednull      -0.270763\n",
       "VGA_Connection        -0.179699\n",
       "DVI_Connection         0.124416\n",
       "Watts                  0.173230\n",
       "Amps                   0.181122\n",
       "Boost_Clock            0.213832\n",
       "SLI_Crossfire          0.256617\n",
       "Memory_Bus             0.269490\n",
       "Dedicated              0.292350\n",
       "Max_Power              0.379073\n",
       "HDMI_Connection        0.427144\n",
       "Best_Resolution        0.430016\n",
       "Core_Speed             0.463566\n",
       "Texture_Rate           0.477909\n",
       "Pixel_Rate             0.481298\n",
       "Memory_Type            0.606223\n",
       "Memory                 0.625216\n",
       "TMUs                   0.631120\n",
       "Memory_Speed           0.649304\n",
       "Resolution_WxH         0.675613\n",
       "Shader                 0.775987\n",
       "DirectX                1.000000\n",
       "Name: DirectX, dtype: float64"
      ]
     },
     "execution_count": 44,
     "metadata": {},
     "output_type": "execute_result"
    }
   ],
   "source": [
    "Dt7.corr(method = 'spearman')['DirectX'].sort_values()"
   ]
  },
  {
   "cell_type": "markdown",
   "metadata": {},
   "source": [
    "##Imputação"
   ]
  },
  {
   "cell_type": "code",
   "execution_count": 45,
   "metadata": {},
   "outputs": [],
   "source": [
    "from sklearn.impute import KNNImputer\n",
    "Kn = KNNImputer()\n",
    "Dt8 = Dt7.copy()\n",
    "Dt8.pop('Nome')\n",
    "colunas = Dt8.columns\n",
    "Dt8 = pd.DataFrame(Kn.fit_transform(Dt8))\n",
    "Dt8.columns = colunas"
   ]
  },
  {
   "cell_type": "markdown",
   "metadata": {},
   "source": [
    "## Normalização"
   ]
  },
  {
   "cell_type": "code",
   "execution_count": 46,
   "metadata": {},
   "outputs": [],
   "source": [
    "from sklearn.preprocessing import StandardScaler\n",
    "norm = ['Best_Resolution','Boost_Clock','Core_Speed','Max_Power','Memory','Memory_Bandwidth','Memory_Bus','Memory_Speed','Pixel_Rate','Process','ROPs','Resolution_WxH','TMUs','Texture_Rate','Watts','Amps']\n",
    "std = StandardScaler()\n",
    "Dt9 = Dt8.copy()\n",
    "Dt9[norm] = std.fit_transform(Dt9[norm])"
   ]
  },
  {
   "cell_type": "code",
   "execution_count": 47,
   "metadata": {},
   "outputs": [],
   "source": [
    "#arrumando  o DirectX que ta como float ainda\n",
    "Dt9['DirectX'].astype(int)\n",
    "Dt9['DirectX'] = Dt9['DirectX'].apply(lambda x: x-8)"
   ]
  },
  {
   "cell_type": "code",
   "execution_count": 48,
   "metadata": {},
   "outputs": [
    {
     "data": {
      "text/plain": [
       "array([4., 2., 3., 0., 1.])"
      ]
     },
     "execution_count": 48,
     "metadata": {},
     "output_type": "execute_result"
    }
   ],
   "source": [
    "Dt9['DirectX'].unique()"
   ]
  },
  {
   "cell_type": "markdown",
   "metadata": {},
   "source": [
    "## Modelo"
   ]
  },
  {
   "cell_type": "code",
   "execution_count": 49,
   "metadata": {},
   "outputs": [],
   "source": [
    "from sklearn.model_selection import train_test_split, KFold\n",
    "from keras.utils import to_categorical, plot_model\n",
    "input = Dt9.columns\n",
    "input = list(input)\n",
    "input.remove('DirectX')\n",
    "y = to_categorical(Dt9['DirectX'])\n",
    "x_train , x_test, y_train, y_test = train_test_split(Dt9[input],y,train_size=0.7)\n",
    "folds = KFold(10,shuffle = True)\n"
   ]
  },
  {
   "cell_type": "code",
   "execution_count": 50,
   "metadata": {},
   "outputs": [],
   "source": [
    "## Inicialmente vou fazer um modelo de Rede neural ja que é o estudo proposto no módulo do projeto\n",
    "from keras import layers, models \n",
    "import tensorflow as tf\n",
    "from keras import optimizers\n",
    "input = list(Dt9.columns)\n",
    "input.remove('DirectX')\n",
    "\n"
   ]
  },
  {
   "cell_type": "code",
   "execution_count": 51,
   "metadata": {},
   "outputs": [],
   "source": [
    "modelo1 = models.Sequential()\n",
    "modelo1.add(layers.Dense(512,activation = tf.nn.swish, input_shape=(Dt9[input].shape[1],)))\n",
    "modelo1.add(layers.Dropout(0.33))\n",
    "modelo1.add(layers.Dense(32, activation= layers.LeakyReLU(alpha=0.1)))\n",
    "modelo1.add(layers.Dropout(0.33))\n",
    "modelo1.add(layers.Dense(252))\n",
    "modelo1.add(layers.Dropout(0.33))\n",
    "modelo1.add(layers.Dense(512,activation = 'tanh'))\n",
    "modelo1.add(layers.Dropout(0.33))\n",
    "modelo1.add(layers.Dense(5, activation='softmax'))"
   ]
  },
  {
   "cell_type": "code",
   "execution_count": 52,
   "metadata": {},
   "outputs": [
    {
     "data": {
      "image/png": "[encoded data removed]",
      "text/plain": [
       "<IPython.core.display.Image object>"
      ]
     },
     "execution_count": 52,
     "metadata": {},
     "output_type": "execute_result"
    }
   ],
   "source": [
    "plot_model(modelo1, show_shapes=True)"
   ]
  },
  {
   "cell_type": "code",
   "execution_count": 53,
   "metadata": {},
   "outputs": [
    {
     "name": "stdout",
     "output_type": "stream",
     "text": [
      "Epoch 1/60\n",
      "45/45 [==============================] - 1s 9ms/step - loss: 0.2368 - accuracy: 0.7538 - val_loss: 0.1635 - val_accuracy: 0.8071\n",
      "Epoch 2/60\n",
      "45/45 [==============================] - 0s 6ms/step - loss: 0.1834 - accuracy: 0.8181 - val_loss: 0.1411 - val_accuracy: 0.8459\n",
      "Epoch 3/60\n",
      "45/45 [==============================] - 0s 9ms/step - loss: 0.1663 - accuracy: 0.8351 - val_loss: 0.1326 - val_accuracy: 0.8899\n",
      "Epoch 4/60\n",
      "45/45 [==============================] - 0s 8ms/step - loss: 0.1536 - accuracy: 0.8320 - val_loss: 0.1240 - val_accuracy: 0.8543\n",
      "Epoch 5/60\n",
      "45/45 [==============================] - 0s 7ms/step - loss: 0.1406 - accuracy: 0.8567 - val_loss: 0.1173 - val_accuracy: 0.9088\n",
      "Epoch 6/60\n",
      "45/45 [==============================] - 0s 7ms/step - loss: 0.1380 - accuracy: 0.8580 - val_loss: 0.1358 - val_accuracy: 0.8711\n",
      "Epoch 7/60\n",
      "45/45 [==============================] - 0s 7ms/step - loss: 0.1270 - accuracy: 0.8729 - val_loss: 0.1181 - val_accuracy: 0.8910\n",
      "Epoch 8/60\n",
      "45/45 [==============================] - 0s 6ms/step - loss: 0.1234 - accuracy: 0.8697 - val_loss: 0.1004 - val_accuracy: 0.9151\n",
      "Epoch 9/60\n",
      "45/45 [==============================] - 0s 6ms/step - loss: 0.1183 - accuracy: 0.8783 - val_loss: 0.1144 - val_accuracy: 0.8679\n",
      "Epoch 10/60\n",
      "45/45 [==============================] - 0s 7ms/step - loss: 0.1167 - accuracy: 0.8801 - val_loss: 0.1064 - val_accuracy: 0.9046\n",
      "Epoch 11/60\n",
      "45/45 [==============================] - 0s 7ms/step - loss: 0.1124 - accuracy: 0.8899 - val_loss: 0.0989 - val_accuracy: 0.8753\n",
      "Epoch 12/60\n",
      "45/45 [==============================] - 0s 6ms/step - loss: 0.1036 - accuracy: 0.8953 - val_loss: 0.0887 - val_accuracy: 0.9308\n",
      "Epoch 13/60\n",
      "45/45 [==============================] - 0s 5ms/step - loss: 0.1071 - accuracy: 0.8886 - val_loss: 0.0920 - val_accuracy: 0.8931\n",
      "Epoch 14/60\n",
      "45/45 [==============================] - 0s 7ms/step - loss: 0.1054 - accuracy: 0.8958 - val_loss: 0.1196 - val_accuracy: 0.9036\n",
      "Epoch 15/60\n",
      "45/45 [==============================] - 0s 7ms/step - loss: 0.1030 - accuracy: 0.8935 - val_loss: 0.1074 - val_accuracy: 0.9046\n",
      "Epoch 16/60\n",
      "45/45 [==============================] - 0s 8ms/step - loss: 0.0992 - accuracy: 0.8962 - val_loss: 0.0921 - val_accuracy: 0.8994\n",
      "Epoch 17/60\n",
      "45/45 [==============================] - 0s 7ms/step - loss: 0.0951 - accuracy: 0.8980 - val_loss: 0.0741 - val_accuracy: 0.9298\n",
      "Epoch 18/60\n",
      "45/45 [==============================] - 0s 6ms/step - loss: 0.0926 - accuracy: 0.9070 - val_loss: 0.0979 - val_accuracy: 0.9256\n",
      "Epoch 19/60\n",
      "45/45 [==============================] - 0s 5ms/step - loss: 0.0938 - accuracy: 0.9061 - val_loss: 0.1070 - val_accuracy: 0.8857\n",
      "Epoch 20/60\n",
      "45/45 [==============================] - 0s 6ms/step - loss: 0.0958 - accuracy: 0.9052 - val_loss: 0.0840 - val_accuracy: 0.9298\n",
      "Epoch 21/60\n",
      "45/45 [==============================] - 0s 5ms/step - loss: 0.0893 - accuracy: 0.9155 - val_loss: 0.0772 - val_accuracy: 0.9224\n",
      "Epoch 22/60\n",
      "45/45 [==============================] - 0s 5ms/step - loss: 0.0884 - accuracy: 0.9146 - val_loss: 0.0839 - val_accuracy: 0.9119\n",
      "Epoch 23/60\n",
      "45/45 [==============================] - 0s 5ms/step - loss: 0.0932 - accuracy: 0.9079 - val_loss: 0.0772 - val_accuracy: 0.9350\n",
      "Epoch 24/60\n",
      "45/45 [==============================] - 0s 6ms/step - loss: 0.0906 - accuracy: 0.9079 - val_loss: 0.0700 - val_accuracy: 0.9277\n",
      "Epoch 25/60\n",
      "45/45 [==============================] - 0s 5ms/step - loss: 0.0845 - accuracy: 0.9142 - val_loss: 0.0731 - val_accuracy: 0.9235\n",
      "Epoch 26/60\n",
      "45/45 [==============================] - 0s 5ms/step - loss: 0.0882 - accuracy: 0.9142 - val_loss: 0.0729 - val_accuracy: 0.9172\n",
      "Epoch 27/60\n",
      "45/45 [==============================] - 0s 6ms/step - loss: 0.0877 - accuracy: 0.9191 - val_loss: 0.0707 - val_accuracy: 0.9444\n",
      "Epoch 28/60\n",
      "45/45 [==============================] - 0s 9ms/step - loss: 0.0804 - accuracy: 0.9227 - val_loss: 0.0844 - val_accuracy: 0.9224\n",
      "Epoch 29/60\n",
      "45/45 [==============================] - 0s 8ms/step - loss: 0.0843 - accuracy: 0.9182 - val_loss: 0.0804 - val_accuracy: 0.9266\n",
      "Epoch 30/60\n",
      "45/45 [==============================] - 0s 5ms/step - loss: 0.0792 - accuracy: 0.9290 - val_loss: 0.0758 - val_accuracy: 0.9329\n",
      "Epoch 31/60\n",
      "45/45 [==============================] - 0s 5ms/step - loss: 0.0796 - accuracy: 0.9178 - val_loss: 0.0713 - val_accuracy: 0.9298\n",
      "Epoch 32/60\n",
      "45/45 [==============================] - 0s 5ms/step - loss: 0.0808 - accuracy: 0.9227 - val_loss: 0.0663 - val_accuracy: 0.9423\n",
      "Epoch 33/60\n",
      "45/45 [==============================] - 0s 5ms/step - loss: 0.0775 - accuracy: 0.9241 - val_loss: 0.0721 - val_accuracy: 0.9308\n",
      "Epoch 34/60\n",
      "45/45 [==============================] - 0s 5ms/step - loss: 0.0800 - accuracy: 0.9218 - val_loss: 0.0719 - val_accuracy: 0.9319\n",
      "Epoch 35/60\n",
      "45/45 [==============================] - 0s 5ms/step - loss: 0.0811 - accuracy: 0.9205 - val_loss: 0.0703 - val_accuracy: 0.9340\n",
      "Epoch 36/60\n",
      "45/45 [==============================] - 0s 5ms/step - loss: 0.0776 - accuracy: 0.9245 - val_loss: 0.0651 - val_accuracy: 0.9371\n",
      "Epoch 37/60\n",
      "45/45 [==============================] - 0s 5ms/step - loss: 0.0767 - accuracy: 0.9241 - val_loss: 0.0720 - val_accuracy: 0.9371\n",
      "Epoch 38/60\n",
      "45/45 [==============================] - 0s 5ms/step - loss: 0.0739 - accuracy: 0.9290 - val_loss: 0.0754 - val_accuracy: 0.9277\n",
      "Epoch 39/60\n",
      "45/45 [==============================] - 0s 5ms/step - loss: 0.0796 - accuracy: 0.9241 - val_loss: 0.0707 - val_accuracy: 0.9350\n",
      "Epoch 40/60\n",
      "45/45 [==============================] - 0s 5ms/step - loss: 0.0687 - accuracy: 0.9322 - val_loss: 0.0633 - val_accuracy: 0.9455\n",
      "Epoch 41/60\n",
      "45/45 [==============================] - 0s 5ms/step - loss: 0.0751 - accuracy: 0.9326 - val_loss: 0.0576 - val_accuracy: 0.9486\n",
      "Epoch 42/60\n",
      "45/45 [==============================] - 0s 5ms/step - loss: 0.0725 - accuracy: 0.9304 - val_loss: 0.0624 - val_accuracy: 0.9539\n",
      "Epoch 43/60\n",
      "45/45 [==============================] - 0s 5ms/step - loss: 0.0742 - accuracy: 0.9326 - val_loss: 0.0726 - val_accuracy: 0.9361\n",
      "Epoch 44/60\n",
      "45/45 [==============================] - 0s 5ms/step - loss: 0.0687 - accuracy: 0.9394 - val_loss: 0.0646 - val_accuracy: 0.9455\n",
      "Epoch 45/60\n",
      "45/45 [==============================] - 0s 5ms/step - loss: 0.0713 - accuracy: 0.9322 - val_loss: 0.0772 - val_accuracy: 0.9308\n",
      "Epoch 46/60\n",
      "45/45 [==============================] - 0s 5ms/step - loss: 0.0662 - accuracy: 0.9394 - val_loss: 0.0947 - val_accuracy: 0.9119\n",
      "Epoch 47/60\n",
      "45/45 [==============================] - 0s 5ms/step - loss: 0.0695 - accuracy: 0.9380 - val_loss: 0.0778 - val_accuracy: 0.9361\n",
      "Epoch 48/60\n",
      "45/45 [==============================] - 0s 5ms/step - loss: 0.0673 - accuracy: 0.9344 - val_loss: 0.0928 - val_accuracy: 0.9235\n",
      "Epoch 49/60\n",
      "45/45 [==============================] - 0s 5ms/step - loss: 0.0703 - accuracy: 0.9344 - val_loss: 0.0654 - val_accuracy: 0.9444\n",
      "Epoch 50/60\n",
      "45/45 [==============================] - 0s 5ms/step - loss: 0.0668 - accuracy: 0.9394 - val_loss: 0.0607 - val_accuracy: 0.9434\n",
      "Epoch 51/60\n",
      "45/45 [==============================] - 0s 5ms/step - loss: 0.0679 - accuracy: 0.9407 - val_loss: 0.0675 - val_accuracy: 0.9361\n",
      "Epoch 52/60\n",
      "45/45 [==============================] - 0s 5ms/step - loss: 0.0690 - accuracy: 0.9358 - val_loss: 0.0606 - val_accuracy: 0.9423\n",
      "Epoch 53/60\n",
      "45/45 [==============================] - 0s 5ms/step - loss: 0.0722 - accuracy: 0.9349 - val_loss: 0.0869 - val_accuracy: 0.9319\n",
      "Epoch 54/60\n",
      "45/45 [==============================] - 0s 5ms/step - loss: 0.0646 - accuracy: 0.9461 - val_loss: 0.0572 - val_accuracy: 0.9497\n",
      "Epoch 55/60\n",
      "45/45 [==============================] - 0s 5ms/step - loss: 0.0662 - accuracy: 0.9429 - val_loss: 0.0691 - val_accuracy: 0.9413\n",
      "Epoch 56/60\n",
      "45/45 [==============================] - 0s 5ms/step - loss: 0.0654 - accuracy: 0.9398 - val_loss: 0.0577 - val_accuracy: 0.9570\n",
      "Epoch 57/60\n",
      "45/45 [==============================] - 0s 5ms/step - loss: 0.0664 - accuracy: 0.9358 - val_loss: 0.0743 - val_accuracy: 0.9403\n",
      "Epoch 58/60\n",
      "45/45 [==============================] - 0s 5ms/step - loss: 0.0632 - accuracy: 0.9438 - val_loss: 0.0686 - val_accuracy: 0.9434\n",
      "Epoch 59/60\n",
      "45/45 [==============================] - 0s 5ms/step - loss: 0.0642 - accuracy: 0.9412 - val_loss: 0.0653 - val_accuracy: 0.9507\n",
      "Epoch 60/60\n",
      "45/45 [==============================] - 0s 5ms/step - loss: 0.0669 - accuracy: 0.9353 - val_loss: 0.0708 - val_accuracy: 0.9193\n"
     ]
    }
   ],
   "source": [
    "modelo1.compile(optimizer='rmsprop',\n",
    "loss='binary_crossentropy',\n",
    "metrics=['accuracy']\n",
    ")\n",
    "history = modelo1.fit(x_train,\n",
    "y_train,\n",
    "epochs=60,\n",
    "batch_size=50,\n",
    "validation_data=(x_test, y_test))"
   ]
  },
  {
   "cell_type": "markdown",
   "metadata": {},
   "source": [
    "## DataSet de Teste"
   ]
  },
  {
   "cell_type": "code",
   "execution_count": 54,
   "metadata": {},
   "outputs": [],
   "source": [
    "teste = pd.read_csv('test.csv') ## Simbora repitir tudo de novo\n"
   ]
  },
  {
   "cell_type": "code",
   "execution_count": 55,
   "metadata": {},
   "outputs": [
    {
     "data": {
      "text/html": [
       "<div>\n",
       "<style scoped>\n",
       "    .dataframe tbody tr th:only-of-type {\n",
       "        vertical-align: middle;\n",
       "    }\n",
       "\n",
       "    .dataframe tbody tr th {\n",
       "        vertical-align: top;\n",
       "    }\n",
       "\n",
       "    .dataframe thead th {\n",
       "        text-align: right;\n",
       "    }\n",
       "</style>\n",
       "<table border=\"1\" class=\"dataframe\">\n",
       "  <thead>\n",
       "    <tr style=\"text-align: right;\">\n",
       "      <th></th>\n",
       "      <th>Best_Resolution</th>\n",
       "      <th>Boost_Clock</th>\n",
       "      <th>Core_Speed</th>\n",
       "      <th>DVI_Connection</th>\n",
       "      <th>Dedicated</th>\n",
       "      <th>HDMI_Connection</th>\n",
       "      <th>Integrated</th>\n",
       "      <th>L2_Cache</th>\n",
       "      <th>Max_Power</th>\n",
       "      <th>Memory</th>\n",
       "      <th>...</th>\n",
       "      <th>VGA_Connection</th>\n",
       "      <th>Watts</th>\n",
       "      <th>Amps</th>\n",
       "      <th>Best_Resolutionnull</th>\n",
       "      <th>Memory_Speednull</th>\n",
       "      <th>Pixel_Ratenull</th>\n",
       "      <th>Processnull</th>\n",
       "      <th>ROPsnull</th>\n",
       "      <th>Resolution_WxHnull</th>\n",
       "      <th>Texture_Ratenull</th>\n",
       "    </tr>\n",
       "  </thead>\n",
       "  <tbody>\n",
       "    <tr>\n",
       "      <th>0</th>\n",
       "      <td>4.156062</td>\n",
       "      <td>0.340795</td>\n",
       "      <td>0.538959</td>\n",
       "      <td>1.0</td>\n",
       "      <td>1.0</td>\n",
       "      <td>1.0</td>\n",
       "      <td>0.0</td>\n",
       "      <td>11.0</td>\n",
       "      <td>4.607355</td>\n",
       "      <td>2.003444</td>\n",
       "      <td>...</td>\n",
       "      <td>0.0</td>\n",
       "      <td>4.565376</td>\n",
       "      <td>4.560094</td>\n",
       "      <td>0.0</td>\n",
       "      <td>0.0</td>\n",
       "      <td>0.0</td>\n",
       "      <td>0.0</td>\n",
       "      <td>0.0</td>\n",
       "      <td>0.0</td>\n",
       "      <td>0.0</td>\n",
       "    </tr>\n",
       "    <tr>\n",
       "      <th>1</th>\n",
       "      <td>1.390692</td>\n",
       "      <td>0.581712</td>\n",
       "      <td>0.750154</td>\n",
       "      <td>1.0</td>\n",
       "      <td>1.0</td>\n",
       "      <td>1.0</td>\n",
       "      <td>0.0</td>\n",
       "      <td>3.0</td>\n",
       "      <td>1.305653</td>\n",
       "      <td>1.255207</td>\n",
       "      <td>...</td>\n",
       "      <td>0.0</td>\n",
       "      <td>1.239542</td>\n",
       "      <td>1.531389</td>\n",
       "      <td>0.0</td>\n",
       "      <td>0.0</td>\n",
       "      <td>0.0</td>\n",
       "      <td>0.0</td>\n",
       "      <td>0.0</td>\n",
       "      <td>0.0</td>\n",
       "      <td>0.0</td>\n",
       "    </tr>\n",
       "    <tr>\n",
       "      <th>2</th>\n",
       "      <td>0.058593</td>\n",
       "      <td>0.039092</td>\n",
       "      <td>0.402705</td>\n",
       "      <td>1.0</td>\n",
       "      <td>1.0</td>\n",
       "      <td>1.0</td>\n",
       "      <td>0.0</td>\n",
       "      <td>5.0</td>\n",
       "      <td>-0.069056</td>\n",
       "      <td>-0.241269</td>\n",
       "      <td>...</td>\n",
       "      <td>0.0</td>\n",
       "      <td>0.408084</td>\n",
       "      <td>0.513745</td>\n",
       "      <td>0.0</td>\n",
       "      <td>0.0</td>\n",
       "      <td>0.0</td>\n",
       "      <td>0.0</td>\n",
       "      <td>0.0</td>\n",
       "      <td>0.0</td>\n",
       "      <td>0.0</td>\n",
       "    </tr>\n",
       "    <tr>\n",
       "      <th>3</th>\n",
       "      <td>-0.910332</td>\n",
       "      <td>0.356362</td>\n",
       "      <td>-0.867868</td>\n",
       "      <td>1.0</td>\n",
       "      <td>1.0</td>\n",
       "      <td>0.0</td>\n",
       "      <td>0.0</td>\n",
       "      <td>0.0</td>\n",
       "      <td>-0.969520</td>\n",
       "      <td>-0.895977</td>\n",
       "      <td>...</td>\n",
       "      <td>0.0</td>\n",
       "      <td>-0.589666</td>\n",
       "      <td>-1.061182</td>\n",
       "      <td>1.0</td>\n",
       "      <td>0.0</td>\n",
       "      <td>1.0</td>\n",
       "      <td>1.0</td>\n",
       "      <td>1.0</td>\n",
       "      <td>1.0</td>\n",
       "      <td>1.0</td>\n",
       "    </tr>\n",
       "    <tr>\n",
       "      <th>4</th>\n",
       "      <td>-0.453591</td>\n",
       "      <td>-0.145487</td>\n",
       "      <td>-0.789522</td>\n",
       "      <td>1.0</td>\n",
       "      <td>1.0</td>\n",
       "      <td>0.0</td>\n",
       "      <td>0.0</td>\n",
       "      <td>2.0</td>\n",
       "      <td>-0.895482</td>\n",
       "      <td>-0.615387</td>\n",
       "      <td>...</td>\n",
       "      <td>0.0</td>\n",
       "      <td>-0.839104</td>\n",
       "      <td>-0.843115</td>\n",
       "      <td>0.0</td>\n",
       "      <td>0.0</td>\n",
       "      <td>0.0</td>\n",
       "      <td>0.0</td>\n",
       "      <td>0.0</td>\n",
       "      <td>0.0</td>\n",
       "      <td>0.0</td>\n",
       "    </tr>\n",
       "  </tbody>\n",
       "</table>\n",
       "<p>5 rows × 34 columns</p>\n",
       "</div>"
      ],
      "text/plain": [
       "   Best_Resolution  Boost_Clock  Core_Speed  DVI_Connection  Dedicated  \\\n",
       "0         4.156062     0.340795    0.538959             1.0        1.0   \n",
       "1         1.390692     0.581712    0.750154             1.0        1.0   \n",
       "2         0.058593     0.039092    0.402705             1.0        1.0   \n",
       "3        -0.910332     0.356362   -0.867868             1.0        1.0   \n",
       "4        -0.453591    -0.145487   -0.789522             1.0        1.0   \n",
       "\n",
       "   HDMI_Connection  Integrated  L2_Cache  Max_Power    Memory  ...  \\\n",
       "0              1.0         0.0      11.0   4.607355  2.003444  ...   \n",
       "1              1.0         0.0       3.0   1.305653  1.255207  ...   \n",
       "2              1.0         0.0       5.0  -0.069056 -0.241269  ...   \n",
       "3              0.0         0.0       0.0  -0.969520 -0.895977  ...   \n",
       "4              0.0         0.0       2.0  -0.895482 -0.615387  ...   \n",
       "\n",
       "   VGA_Connection     Watts      Amps  Best_Resolutionnull  Memory_Speednull  \\\n",
       "0             0.0  4.565376  4.560094                  0.0               0.0   \n",
       "1             0.0  1.239542  1.531389                  0.0               0.0   \n",
       "2             0.0  0.408084  0.513745                  0.0               0.0   \n",
       "3             0.0 -0.589666 -1.061182                  1.0               0.0   \n",
       "4             0.0 -0.839104 -0.843115                  0.0               0.0   \n",
       "\n",
       "   Pixel_Ratenull  Processnull  ROPsnull  Resolution_WxHnull  Texture_Ratenull  \n",
       "0             0.0          0.0       0.0                 0.0               0.0  \n",
       "1             0.0          0.0       0.0                 0.0               0.0  \n",
       "2             0.0          0.0       0.0                 0.0               0.0  \n",
       "3             1.0          1.0       1.0                 1.0               1.0  \n",
       "4             0.0          0.0       0.0                 0.0               0.0  \n",
       "\n",
       "[5 rows x 34 columns]"
      ]
     },
     "execution_count": 55,
     "metadata": {},
     "output_type": "execute_result"
    }
   ],
   "source": [
    "Dteste = teste.drop(['DisplayPort_Connection','Nome'],axis = 1)\n",
    "Dteste['DVI_Connection'] = Dteste['DVI_Connection'].fillna(Dteste['DVI_Connection'].mode()[0])\n",
    "Dteste['VGA_Connection'] = Dteste['VGA_Connection'].fillna(Dteste['VGA_Connection'].mode()[0])\n",
    "Dteste['HDMI_Connection'] = Dteste['HDMI_Connection'].fillna(Dteste['HDMI_Connection'].mode()[0])\n",
    "Dteste['DVI_Connection'] = Dteste['DVI_Connection'].apply(lambda x: 1 if x != 0 else 0)\n",
    "Dteste['HDMI_Connection'] = Dteste['HDMI_Connection'].apply(lambda x: 1 if x != 0 else 0)\n",
    "Dteste['TMUs'] = Dteste['TMUs'].fillna(-1)\n",
    "Dteste['Shader'] = Dteste['Shader'].fillna(Dt2['Shader'].mode()[0])\n",
    "Dteste['Core_Speed'] = Dteste['Core_Speed'].apply(lambda x: np.nan if x in nf else x) #Trata os dados escritos de forma bizzarra\n",
    "Dteste['Boost_Clock'] = Dteste['Boost_Clock'].convert_dtypes() #Converte para o melhor tipo, neste caso string\n",
    "Dteste['Boost_Clock'] = Dteste['Boost_Clock'].fillna('0 mz') #Para podermos ignorar os valores nulos \n",
    "Dteste['Boost_Clock'] = Dteste['Boost_Clock'].apply(lambda x: x.split()[0]) #Separamos a parte que queremos\n",
    "Dteste['Boost_Clock'] = Dteste['Boost_Clock'].apply(lambda x: np.nan if x == '0'  else float(x)) #Voltamos ao dataset com nulos e ja convertemos para float\n",
    "for column in VarUM:\n",
    "    Dteste[column] = Dteste[column].astype('string')\n",
    "    Dteste[column] = Dteste[column].fillna('0 um') \n",
    "    Dteste[column] = Dteste[column].apply(lambda x: x.split()[0]) \n",
    "    Dteste[column] = Dteste[column].apply(lambda x: np.nan if x == '0'  else float(x)) \n",
    "Dteste['Process'] = Dteste['Process'].astype('string')\n",
    "Dteste['Process'] = Dteste['Process'].fillna('00um')\n",
    "Dteste['Process'] = Dteste['Process'].apply(lambda x: x[:2])\n",
    "Dteste['Process'] = Dteste['Process'].apply(lambda x: np.nan if x == '00' else float(x))\n",
    "Inter = Dteste['PSU'].str.split( '&', n =2 ,expand=True)\n",
    "Dteste.pop('PSU')\n",
    "Dteste['Watts'] = Inter[0]\n",
    "Dteste['Amps'] = Inter[1]\n",
    "Intercolum = ['Watts','Amps']\n",
    "for column in Intercolum:\n",
    "    Dteste[column] = Dteste[column].astype('string')\n",
    "    Dteste[column] = Dteste[column].fillna('0 um') \n",
    "    Dteste[column] = Dteste[column].apply(lambda x: x.split()[0]) \n",
    "    Dteste[column] = Dteste[column].apply(lambda x: np.nan if x == '0'  else float(x))\n",
    "Dteste[catvar] = Le.transform(Dteste[catvar])\n",
    "Dteste['Best_Resolution'] = Dteste['Best_Resolution'].apply(lambda x: x if type(x) == float else int(x.split('x')[0]) * int(x.split('x')[1]) )\n",
    "Dteste['L2_Cache'] = Dteste['L2_Cache'].apply(l2)\n",
    "Dteste['L2_Cache'].astype(int)\n",
    "Dteste['Memory_Bandwidth'] = Dteste['Memory_Bandwidth'].apply(membad)\n",
    "Dteste['Memory_Bandwidth'].astype(float)\n",
    "Dteste['ROPs'] = Dteste['ROPs'].apply(rop)\n",
    "Dteste['Resolution_WxH'] = Dteste['Resolution_WxH'].apply(lambda x: x if type(x) == float else int(x.split('x')[0]) * int(x.split('x')[1]) )\n",
    "for column in importantnull:\n",
    "    if column != \"TMUs\":\n",
    "     Dteste[column+'null'] = Dteste[column].fillna('null')\n",
    "     Dteste[column+'null'] = Dteste[column+'null'].apply(lambda x: 1 if x == 'null' else 0 )\n",
    "colunas = Dteste.columns\n",
    "Dteste = pd.DataFrame(Kn.fit_transform(Dteste))\n",
    "Dteste.columns = colunas\n",
    "Dteste[norm] = std.transform(Dteste[norm])\n",
    "Dteste.head()"
   ]
  },
  {
   "cell_type": "code",
   "execution_count": 56,
   "metadata": {},
   "outputs": [
    {
     "name": "stdout",
     "output_type": "stream",
     "text": [
      "7/7 [==============================] - 0s 1ms/step\n"
     ]
    }
   ],
   "source": [
    "y_pred = modelo1.predict(Dteste)\n",
    "y_predut = pd.DataFrame(y_pred)\n"
   ]
  },
  {
   "cell_type": "code",
   "execution_count": 57,
   "metadata": {},
   "outputs": [],
   "source": [
    "for column in y_predut.columns:\n",
    "    y_predut[column] = y_predut[column].apply(lambda x: 0 if x < .5 else 1)"
   ]
  },
  {
   "cell_type": "code",
   "execution_count": 58,
   "metadata": {},
   "outputs": [
    {
     "data": {
      "text/html": [
       "<div>\n",
       "<style scoped>\n",
       "    .dataframe tbody tr th:only-of-type {\n",
       "        vertical-align: middle;\n",
       "    }\n",
       "\n",
       "    .dataframe tbody tr th {\n",
       "        vertical-align: top;\n",
       "    }\n",
       "\n",
       "    .dataframe thead th {\n",
       "        text-align: right;\n",
       "    }\n",
       "</style>\n",
       "<table border=\"1\" class=\"dataframe\">\n",
       "  <thead>\n",
       "    <tr style=\"text-align: right;\">\n",
       "      <th></th>\n",
       "      <th>0</th>\n",
       "      <th>1</th>\n",
       "      <th>2</th>\n",
       "      <th>3</th>\n",
       "      <th>4</th>\n",
       "    </tr>\n",
       "  </thead>\n",
       "  <tbody>\n",
       "    <tr>\n",
       "      <th>0</th>\n",
       "      <td>0</td>\n",
       "      <td>0</td>\n",
       "      <td>0</td>\n",
       "      <td>0</td>\n",
       "      <td>1</td>\n",
       "    </tr>\n",
       "    <tr>\n",
       "      <th>1</th>\n",
       "      <td>0</td>\n",
       "      <td>0</td>\n",
       "      <td>0</td>\n",
       "      <td>0</td>\n",
       "      <td>1</td>\n",
       "    </tr>\n",
       "    <tr>\n",
       "      <th>2</th>\n",
       "      <td>0</td>\n",
       "      <td>0</td>\n",
       "      <td>0</td>\n",
       "      <td>0</td>\n",
       "      <td>1</td>\n",
       "    </tr>\n",
       "    <tr>\n",
       "      <th>3</th>\n",
       "      <td>0</td>\n",
       "      <td>1</td>\n",
       "      <td>0</td>\n",
       "      <td>0</td>\n",
       "      <td>0</td>\n",
       "    </tr>\n",
       "    <tr>\n",
       "      <th>4</th>\n",
       "      <td>0</td>\n",
       "      <td>0</td>\n",
       "      <td>0</td>\n",
       "      <td>1</td>\n",
       "      <td>0</td>\n",
       "    </tr>\n",
       "    <tr>\n",
       "      <th>...</th>\n",
       "      <td>...</td>\n",
       "      <td>...</td>\n",
       "      <td>...</td>\n",
       "      <td>...</td>\n",
       "      <td>...</td>\n",
       "    </tr>\n",
       "    <tr>\n",
       "      <th>215</th>\n",
       "      <td>0</td>\n",
       "      <td>0</td>\n",
       "      <td>1</td>\n",
       "      <td>0</td>\n",
       "      <td>0</td>\n",
       "    </tr>\n",
       "    <tr>\n",
       "      <th>216</th>\n",
       "      <td>1</td>\n",
       "      <td>0</td>\n",
       "      <td>0</td>\n",
       "      <td>0</td>\n",
       "      <td>0</td>\n",
       "    </tr>\n",
       "    <tr>\n",
       "      <th>217</th>\n",
       "      <td>0</td>\n",
       "      <td>1</td>\n",
       "      <td>0</td>\n",
       "      <td>0</td>\n",
       "      <td>0</td>\n",
       "    </tr>\n",
       "    <tr>\n",
       "      <th>218</th>\n",
       "      <td>0</td>\n",
       "      <td>1</td>\n",
       "      <td>0</td>\n",
       "      <td>0</td>\n",
       "      <td>0</td>\n",
       "    </tr>\n",
       "    <tr>\n",
       "      <th>219</th>\n",
       "      <td>0</td>\n",
       "      <td>0</td>\n",
       "      <td>1</td>\n",
       "      <td>0</td>\n",
       "      <td>0</td>\n",
       "    </tr>\n",
       "  </tbody>\n",
       "</table>\n",
       "<p>220 rows × 5 columns</p>\n",
       "</div>"
      ],
      "text/plain": [
       "     0  1  2  3  4\n",
       "0    0  0  0  0  1\n",
       "1    0  0  0  0  1\n",
       "2    0  0  0  0  1\n",
       "3    0  1  0  0  0\n",
       "4    0  0  0  1  0\n",
       "..  .. .. .. .. ..\n",
       "215  0  0  1  0  0\n",
       "216  1  0  0  0  0\n",
       "217  0  1  0  0  0\n",
       "218  0  1  0  0  0\n",
       "219  0  0  1  0  0\n",
       "\n",
       "[220 rows x 5 columns]"
      ]
     },
     "execution_count": 58,
     "metadata": {},
     "output_type": "execute_result"
    }
   ],
   "source": [
    "y_predut"
   ]
  },
  {
   "cell_type": "code",
   "execution_count": 59,
   "metadata": {},
   "outputs": [],
   "source": [
    "y_final= y_predut[0]*8 + y_predut[1]*9 + y_predut[2]*10 + y_predut[3]*11 + y_predut[4]*12\n"
   ]
  },
  {
   "cell_type": "code",
   "execution_count": 60,
   "metadata": {},
   "outputs": [
    {
     "data": {
      "text/plain": [
       "array([12,  9, 11, 10,  8], dtype=int64)"
      ]
     },
     "execution_count": 60,
     "metadata": {},
     "output_type": "execute_result"
    }
   ],
   "source": [
    "y_final.unique()"
   ]
  },
  {
   "cell_type": "code",
   "execution_count": 61,
   "metadata": {},
   "outputs": [],
   "source": [
    "Entrega = pd.read_csv('Sample_Submission.csv')\n",
    "Entrega['DirectX'] = y_final"
   ]
  },
  {
   "cell_type": "code",
   "execution_count": 62,
   "metadata": {},
   "outputs": [
    {
     "data": {
      "text/html": [
       "<div>\n",
       "<style scoped>\n",
       "    .dataframe tbody tr th:only-of-type {\n",
       "        vertical-align: middle;\n",
       "    }\n",
       "\n",
       "    .dataframe tbody tr th {\n",
       "        vertical-align: top;\n",
       "    }\n",
       "\n",
       "    .dataframe thead th {\n",
       "        text-align: right;\n",
       "    }\n",
       "</style>\n",
       "<table border=\"1\" class=\"dataframe\">\n",
       "  <thead>\n",
       "    <tr style=\"text-align: right;\">\n",
       "      <th></th>\n",
       "      <th>Nome</th>\n",
       "      <th>DirectX</th>\n",
       "    </tr>\n",
       "  </thead>\n",
       "  <tbody>\n",
       "    <tr>\n",
       "      <th>0</th>\n",
       "      <td>M76XNVTL4M4ULZCFPEG95AHFECWN90T2JARFXG209YG</td>\n",
       "      <td>12</td>\n",
       "    </tr>\n",
       "    <tr>\n",
       "      <th>1</th>\n",
       "      <td>7QUDV2P0AH29CTIFMANEW6YY56ZZMU0EEWQBTGL3V7Z8UQ</td>\n",
       "      <td>12</td>\n",
       "    </tr>\n",
       "    <tr>\n",
       "      <th>2</th>\n",
       "      <td>ZXD50ONA8MZUHE1NY21ZUZ4BOFXZ9X0</td>\n",
       "      <td>12</td>\n",
       "    </tr>\n",
       "    <tr>\n",
       "      <th>3</th>\n",
       "      <td>AO86XNGN8L42G2Z</td>\n",
       "      <td>9</td>\n",
       "    </tr>\n",
       "    <tr>\n",
       "      <th>4</th>\n",
       "      <td>HM3LPJ50FKGK45O</td>\n",
       "      <td>11</td>\n",
       "    </tr>\n",
       "    <tr>\n",
       "      <th>...</th>\n",
       "      <td>...</td>\n",
       "      <td>...</td>\n",
       "    </tr>\n",
       "    <tr>\n",
       "      <th>215</th>\n",
       "      <td>TWQEDZEYC2G</td>\n",
       "      <td>10</td>\n",
       "    </tr>\n",
       "    <tr>\n",
       "      <th>216</th>\n",
       "      <td>NWBFJQ60KW7ED39</td>\n",
       "      <td>8</td>\n",
       "    </tr>\n",
       "    <tr>\n",
       "      <th>217</th>\n",
       "      <td>4XNTK981BPTU4C</td>\n",
       "      <td>9</td>\n",
       "    </tr>\n",
       "    <tr>\n",
       "      <th>218</th>\n",
       "      <td>T3UN6IX4HZD3WX8</td>\n",
       "      <td>9</td>\n",
       "    </tr>\n",
       "    <tr>\n",
       "      <th>219</th>\n",
       "      <td>LAU0WJD3PG6W</td>\n",
       "      <td>10</td>\n",
       "    </tr>\n",
       "  </tbody>\n",
       "</table>\n",
       "<p>220 rows × 2 columns</p>\n",
       "</div>"
      ],
      "text/plain": [
       "                                               Nome  DirectX\n",
       "0       M76XNVTL4M4ULZCFPEG95AHFECWN90T2JARFXG209YG       12\n",
       "1    7QUDV2P0AH29CTIFMANEW6YY56ZZMU0EEWQBTGL3V7Z8UQ       12\n",
       "2                   ZXD50ONA8MZUHE1NY21ZUZ4BOFXZ9X0       12\n",
       "3                                   AO86XNGN8L42G2Z        9\n",
       "4                                   HM3LPJ50FKGK45O       11\n",
       "..                                              ...      ...\n",
       "215                                     TWQEDZEYC2G       10\n",
       "216                                 NWBFJQ60KW7ED39        8\n",
       "217                                  4XNTK981BPTU4C        9\n",
       "218                                 T3UN6IX4HZD3WX8        9\n",
       "219                                    LAU0WJD3PG6W       10\n",
       "\n",
       "[220 rows x 2 columns]"
      ]
     },
     "execution_count": 62,
     "metadata": {},
     "output_type": "execute_result"
    }
   ],
   "source": [
    "Entrega"
   ]
  },
  {
   "cell_type": "code",
   "execution_count": 63,
   "metadata": {},
   "outputs": [],
   "source": [
    "Entrega.to_csv('Modelo1sfalha.csv',index= False)"
   ]
  }
 ],
 "metadata": {
  "kernelspec": {
   "display_name": "Python 3.9.12 ('base')",
   "language": "python",
   "name": "python3"
  },
  "language_info": {
   "codemirror_mode": {
    "name": "ipython",
    "version": 3
   },
   "file_extension": ".py",
   "mimetype": "text/x-python",
   "name": "python",
   "nbconvert_exporter": "python",
   "pygments_lexer": "ipython3",
   "version": "3.9.12"
  },
  "orig_nbformat": 4,
  "vscode": {
   "interpreter": {
    "hash": "f08154012ddadd8e950e6e9e035c7a7b32c136e7647e9b7c77e02eb723a8bedb"
   }
  }
 },
 "nbformat": 4,
 "nbformat_minor": 2
}
