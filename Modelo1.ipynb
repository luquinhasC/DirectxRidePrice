{
 "cells": [
  {
   "cell_type": "markdown",
   "metadata": {},
   "source": [
    "## DirectXRidePrice"
   ]
  },
  {
   "cell_type": "markdown",
   "metadata": {},
   "source": [
    "Primeira vista e estudo do dataset proporcionado pelo projeto Cidamo no minicurso introdutório ao programa. Pessoalmente, não faço ideia do que verei a seguir muito menos de como irei lidar com os dados.\n",
    "\n",
    "Como o assunto do estudo é redes neurais, estarei resolvendo o problema pela teoria. De qualquer maneira, pela minha facilidade com o scikit-learn irei utiliza-lo para boa parte do pré-processamento e de diversos testes que provavelmente irei fazer com o dataset.\n",
    "\n",
    "O Objetivo é prever qual é a versão mais alta de Direct X sustentada por cada GPU."
   ]
  },
  {
   "cell_type": "code",
   "execution_count": 1,
   "metadata": {},
   "outputs": [],
   "source": [
    "import pandas as pd\n",
    "import matplotlib.pyplot as plt\n",
    "import seaborn as sns\n",
    "import numpy as np"
   ]
  },
  {
   "cell_type": "code",
   "execution_count": 2,
   "metadata": {},
   "outputs": [
    {
     "data": {
      "text/html": [
       "<div>\n",
       "<style scoped>\n",
       "    .dataframe tbody tr th:only-of-type {\n",
       "        vertical-align: middle;\n",
       "    }\n",
       "\n",
       "    .dataframe tbody tr th {\n",
       "        vertical-align: top;\n",
       "    }\n",
       "\n",
       "    .dataframe thead th {\n",
       "        text-align: right;\n",
       "    }\n",
       "</style>\n",
       "<table border=\"1\" class=\"dataframe\">\n",
       "  <thead>\n",
       "    <tr style=\"text-align: right;\">\n",
       "      <th></th>\n",
       "      <th>Nome</th>\n",
       "      <th>Best_Resolution</th>\n",
       "      <th>Boost_Clock</th>\n",
       "      <th>Core_Speed</th>\n",
       "      <th>DVI_Connection</th>\n",
       "      <th>Dedicated</th>\n",
       "      <th>DisplayPort_Connection</th>\n",
       "      <th>HDMI_Connection</th>\n",
       "      <th>Integrated</th>\n",
       "      <th>L2_Cache</th>\n",
       "      <th>...</th>\n",
       "      <th>Power_Connector</th>\n",
       "      <th>Process</th>\n",
       "      <th>ROPs</th>\n",
       "      <th>Resolution_WxH</th>\n",
       "      <th>SLI_Crossfire</th>\n",
       "      <th>Shader</th>\n",
       "      <th>TMUs</th>\n",
       "      <th>Texture_Rate</th>\n",
       "      <th>VGA_Connection</th>\n",
       "      <th>DirectX</th>\n",
       "    </tr>\n",
       "  </thead>\n",
       "  <tbody>\n",
       "    <tr>\n",
       "      <th>0</th>\n",
       "      <td>GDVGF0SH61PY9M2INL2QI3AHTK3HTCKI7VHE7O19</td>\n",
       "      <td>1920 x 1080</td>\n",
       "      <td>1253 MHz</td>\n",
       "      <td>1076 MHz</td>\n",
       "      <td>1.0</td>\n",
       "      <td>Yes</td>\n",
       "      <td>1.0</td>\n",
       "      <td>1.0</td>\n",
       "      <td>No</td>\n",
       "      <td>1024KB</td>\n",
       "      <td>...</td>\n",
       "      <td>None</td>\n",
       "      <td>28nm</td>\n",
       "      <td>32</td>\n",
       "      <td>5120x3200</td>\n",
       "      <td>Yes</td>\n",
       "      <td>5.0</td>\n",
       "      <td>48.0</td>\n",
       "      <td>60 GTexel/s</td>\n",
       "      <td>0.0</td>\n",
       "      <td>12</td>\n",
       "    </tr>\n",
       "    <tr>\n",
       "      <th>1</th>\n",
       "      <td>7JK45GGO3YLWSYL</td>\n",
       "      <td>NaN</td>\n",
       "      <td>NaN</td>\n",
       "      <td>\\n-</td>\n",
       "      <td>NaN</td>\n",
       "      <td>Yes</td>\n",
       "      <td>NaN</td>\n",
       "      <td>NaN</td>\n",
       "      <td>No</td>\n",
       "      <td>0KB</td>\n",
       "      <td>...</td>\n",
       "      <td>NaN</td>\n",
       "      <td>NaN</td>\n",
       "      <td>NaN</td>\n",
       "      <td>2560x1600</td>\n",
       "      <td>No</td>\n",
       "      <td>4.0</td>\n",
       "      <td>NaN</td>\n",
       "      <td>NaN</td>\n",
       "      <td>NaN</td>\n",
       "      <td>10</td>\n",
       "    </tr>\n",
       "    <tr>\n",
       "      <th>2</th>\n",
       "      <td>ZC0GAMPBZGI7HE1</td>\n",
       "      <td>1366 x 768</td>\n",
       "      <td>NaN</td>\n",
       "      <td>810 MHz</td>\n",
       "      <td>NaN</td>\n",
       "      <td>Yes</td>\n",
       "      <td>NaN</td>\n",
       "      <td>NaN</td>\n",
       "      <td>No</td>\n",
       "      <td>256KB</td>\n",
       "      <td>...</td>\n",
       "      <td>NaN</td>\n",
       "      <td>28nm</td>\n",
       "      <td>16</td>\n",
       "      <td>4096x2160</td>\n",
       "      <td>No</td>\n",
       "      <td>5.0</td>\n",
       "      <td>32.0</td>\n",
       "      <td>26 GTexel/s</td>\n",
       "      <td>NaN</td>\n",
       "      <td>12</td>\n",
       "    </tr>\n",
       "    <tr>\n",
       "      <th>3</th>\n",
       "      <td>TOASMLBKENKUKMXGHHQ1CN95QZRZB2GF7G35KJMOC</td>\n",
       "      <td>1920 x 1080</td>\n",
       "      <td>1111 MHz</td>\n",
       "      <td>1046 MHz</td>\n",
       "      <td>1.0</td>\n",
       "      <td>Yes</td>\n",
       "      <td>NaN</td>\n",
       "      <td>2.0</td>\n",
       "      <td>No</td>\n",
       "      <td>384KB</td>\n",
       "      <td>...</td>\n",
       "      <td>None</td>\n",
       "      <td>28nm</td>\n",
       "      <td>24</td>\n",
       "      <td>4096x2160</td>\n",
       "      <td>Yes</td>\n",
       "      <td>5.0</td>\n",
       "      <td>80.0</td>\n",
       "      <td>89 GTexel/s</td>\n",
       "      <td>0.0</td>\n",
       "      <td>12</td>\n",
       "    </tr>\n",
       "    <tr>\n",
       "      <th>4</th>\n",
       "      <td>G1C3DNBKSFIJ1QH9</td>\n",
       "      <td>1366 x 768</td>\n",
       "      <td>NaN</td>\n",
       "      <td>954 MHz</td>\n",
       "      <td>NaN</td>\n",
       "      <td>Yes</td>\n",
       "      <td>NaN</td>\n",
       "      <td>NaN</td>\n",
       "      <td>No</td>\n",
       "      <td>128KB</td>\n",
       "      <td>...</td>\n",
       "      <td>NaN</td>\n",
       "      <td>28nm</td>\n",
       "      <td>8</td>\n",
       "      <td>4096x2160</td>\n",
       "      <td>No</td>\n",
       "      <td>5.0</td>\n",
       "      <td>32.0</td>\n",
       "      <td>31 GTexel/s</td>\n",
       "      <td>NaN</td>\n",
       "      <td>12</td>\n",
       "    </tr>\n",
       "  </tbody>\n",
       "</table>\n",
       "<p>5 rows × 29 columns</p>\n",
       "</div>"
      ],
      "text/plain": [
       "                                        Nome Best_Resolution Boost_Clock  \\\n",
       "0   GDVGF0SH61PY9M2INL2QI3AHTK3HTCKI7VHE7O19     1920 x 1080   1253 MHz    \n",
       "1                            7JK45GGO3YLWSYL             NaN         NaN   \n",
       "2                            ZC0GAMPBZGI7HE1      1366 x 768         NaN   \n",
       "3  TOASMLBKENKUKMXGHHQ1CN95QZRZB2GF7G35KJMOC     1920 x 1080   1111 MHz    \n",
       "4                           G1C3DNBKSFIJ1QH9      1366 x 768         NaN   \n",
       "\n",
       "  Core_Speed  DVI_Connection Dedicated  DisplayPort_Connection  \\\n",
       "0   1076 MHz             1.0       Yes                     1.0   \n",
       "1       \\n-              NaN       Yes                     NaN   \n",
       "2    810 MHz             NaN       Yes                     NaN   \n",
       "3   1046 MHz             1.0       Yes                     NaN   \n",
       "4    954 MHz             NaN       Yes                     NaN   \n",
       "\n",
       "   HDMI_Connection Integrated L2_Cache  ... Power_Connector Process ROPs  \\\n",
       "0              1.0         No   1024KB  ...           None     28nm   32   \n",
       "1              NaN         No      0KB  ...             NaN     NaN  NaN   \n",
       "2              NaN         No    256KB  ...             NaN    28nm   16   \n",
       "3              2.0         No    384KB  ...           None     28nm   24   \n",
       "4              NaN         No    128KB  ...             NaN    28nm    8   \n",
       "\n",
       "  Resolution_WxH SLI_Crossfire Shader  TMUs Texture_Rate VGA_Connection  \\\n",
       "0      5120x3200           Yes    5.0  48.0  60 GTexel/s            0.0   \n",
       "1      2560x1600            No    4.0   NaN          NaN            NaN   \n",
       "2      4096x2160            No    5.0  32.0  26 GTexel/s            NaN   \n",
       "3      4096x2160           Yes    5.0  80.0  89 GTexel/s            0.0   \n",
       "4      4096x2160            No    5.0  32.0  31 GTexel/s            NaN   \n",
       "\n",
       "  DirectX  \n",
       "0      12  \n",
       "1      10  \n",
       "2      12  \n",
       "3      12  \n",
       "4      12  \n",
       "\n",
       "[5 rows x 29 columns]"
      ]
     },
     "execution_count": 2,
     "metadata": {},
     "output_type": "execute_result"
    }
   ],
   "source": [
    "Dt = pd.read_csv('Train.csv')\n",
    "Dt.head()\n",
    "#Minha primeira vista nos dados do Dataset. Dos Datasets ofertados no curso, este é o maior\n",
    "# com uma ednorme quantidade de features para estudar.\n",
    "\n",
    "#Deixo bem claro meu susto ao perceber a quantidade de valor nulo em certas linhas"
   ]
  },
  {
   "cell_type": "code",
   "execution_count": 3,
   "metadata": {},
   "outputs": [
    {
     "name": "stdout",
     "output_type": "stream",
     "text": [
      "<class 'pandas.core.frame.DataFrame'>\n",
      "RangeIndex: 3180 entries, 0 to 3179\n",
      "Data columns (total 29 columns):\n",
      " #   Column                  Non-Null Count  Dtype  \n",
      "---  ------                  --------------  -----  \n",
      " 0   Nome                    3180 non-null   object \n",
      " 1   Best_Resolution         2650 non-null   object \n",
      " 2   Boost_Clock             1412 non-null   object \n",
      " 3   Core_Speed              3180 non-null   object \n",
      " 4   DVI_Connection          2501 non-null   float64\n",
      " 5   Dedicated               3170 non-null   object \n",
      " 6   DisplayPort_Connection  836 non-null    float64\n",
      " 7   HDMI_Connection         2492 non-null   float64\n",
      " 8   Integrated              3170 non-null   object \n",
      " 9   L2_Cache                3180 non-null   object \n",
      " 10  Max_Power               2633 non-null   object \n",
      " 11  Memory                  2814 non-null   object \n",
      " 12  Memory_Bandwidth        3079 non-null   object \n",
      " 13  Memory_Bus              3133 non-null   object \n",
      " 14  Memory_Speed            3089 non-null   object \n",
      " 15  Memory_Type             3137 non-null   object \n",
      " 16  Notebook_GPU            3180 non-null   object \n",
      " 17  PSU                     2129 non-null   object \n",
      " 18  Pixel_Rate              2735 non-null   object \n",
      " 19  Power_Connector         2534 non-null   object \n",
      " 20  Process                 2806 non-null   object \n",
      " 21  ROPs                    2739 non-null   object \n",
      " 22  Resolution_WxH          3030 non-null   object \n",
      " 23  SLI_Crossfire           3180 non-null   object \n",
      " 24  Shader                  3098 non-null   float64\n",
      " 25  TMUs                    2739 non-null   float64\n",
      " 26  Texture_Rate            2735 non-null   object \n",
      " 27  VGA_Connection          2494 non-null   float64\n",
      " 28  DirectX                 3180 non-null   int64  \n",
      "dtypes: float64(6), int64(1), object(22)\n",
      "memory usage: 720.6+ KB\n"
     ]
    },
    {
     "data": {
      "text/plain": [
       "0"
      ]
     },
     "execution_count": 3,
     "metadata": {},
     "output_type": "execute_result"
    }
   ],
   "source": [
    "Dt.info()\n",
    "#Potencializar meu medo sobre tratar estes valores nulos \n",
    "0#Pelo menos a versão do Direct X não contém nenhum nulo"
   ]
  },
  {
   "cell_type": "markdown",
   "metadata": {},
   "source": [
    "## EDA"
   ]
  },
  {
   "cell_type": "markdown",
   "metadata": {},
   "source": [
    "Irei separar o EDA em alguns capitulos do meu sofrimento"
   ]
  },
  {
   "cell_type": "markdown",
   "metadata": {},
   "source": [
    "### Valores nulos"
   ]
  },
  {
   "cell_type": "markdown",
   "metadata": {},
   "source": [
    "Não pretendo trata-los agora, mas acredito ser de extrema importância analisar a relação de valores nulos com o direct X"
   ]
  },
  {
   "cell_type": "code",
   "execution_count": 4,
   "metadata": {},
   "outputs": [
    {
     "data": {
      "text/plain": [
       "12    915\n",
       "11    420\n",
       "10    373\n",
       "9     153\n",
       "8      40\n",
       "Name: DirectX, dtype: int64"
      ]
     },
     "execution_count": 4,
     "metadata": {},
     "output_type": "execute_result"
    }
   ],
   "source": [
    "Dt['DirectX'].loc[Dt.isna().sum(axis = 1) >1 ].value_counts()\n"
   ]
  },
  {
   "cell_type": "code",
   "execution_count": 5,
   "metadata": {},
   "outputs": [
    {
     "data": {
      "image/png": "[encoded data removed]",
      "text/plain": [
       "<Figure size 864x432 with 2 Axes>"
      ]
     },
     "metadata": {
      "needs_background": "light"
     },
     "output_type": "display_data"
    }
   ],
   "source": [
    "fig, axes,  = plt.subplots(1,2,figsize = (12,6))\n",
    "sns.histplot(data = Dt['DirectX'].loc[Dt.isna().sum(axis = 1) > 1 ],\n",
    "ax = axes[0],\n",
    ")\n",
    "sns.histplot(\n",
    "data = Dt['DirectX'],\n",
    "ax = axes[1]\n",
    ")\n",
    "plt.show()\n",
    "#Em geral a disposição dos DirectX nas GPUS que apresentam valores nulos não muda muito comparado ao padrão"
   ]
  },
  {
   "cell_type": "code",
   "execution_count": 6,
   "metadata": {},
   "outputs": [
    {
     "data": {
      "image/png": "[encoded data removed]",
      "text/plain": [
       "<Figure size 864x432 with 2 Axes>"
      ]
     },
     "metadata": {
      "needs_background": "light"
     },
     "output_type": "display_data"
    }
   ],
   "source": [
    "fig, axes,  = plt.subplots(1,2,figsize = (12,6))\n",
    "sns.histplot(data = Dt['DirectX'].loc[Dt.isna().sum(axis = 1) > 7 ],\n",
    "ax = axes[0],\n",
    ")\n",
    "sns.histplot(\n",
    "data = Dt['DirectX'],\n",
    "ax = axes[1]\n",
    ")\n",
    "plt.show()\n",
    "#No caso de muitas colunas nulas ja ocorre uma mudança, porém ainda não há muito o que possa se tirar desses gráficos"
   ]
  },
  {
   "cell_type": "code",
   "execution_count": 7,
   "metadata": {},
   "outputs": [
    {
     "name": "stdout",
     "output_type": "stream",
     "text": [
      "nan\n",
      "9.864150943396226\n",
      "11.010180995475114\n",
      "nan\n",
      "10.910162002945508\n",
      "11.5\n",
      "11.238054607508532\n",
      "10.896802325581396\n",
      "11.5\n",
      "nan\n",
      "10.76965265082267\n",
      "10.756830601092895\n",
      "10.07920792079208\n",
      "10.212765957446809\n",
      "9.89010989010989\n",
      "10.255813953488373\n",
      "nan\n",
      "10.843006660323502\n",
      "9.748314606741573\n",
      "11.0015479876161\n",
      "9.598930481283423\n",
      "9.736961451247165\n",
      "9.626666666666667\n",
      "nan\n",
      "10.621951219512194\n",
      "9.736961451247165\n",
      "9.748314606741573\n",
      "10.912536443148689\n",
      "nan\n",
      "11.420754716981133 11.061020515518148\n"
     ]
    }
   ],
   "source": [
    "for column in Dt.columns:\n",
    "    print(Dt['DirectX'].loc[Dt[column].isna() == True ].mean())\n",
    "print(Dt['DirectX'].mean(),Dt['DirectX'].loc[Dt.isna().sum(axis = 1) >1 ].mean())\n",
    "#Perceba que há médias muito menores do que o esperado"
   ]
  },
  {
   "cell_type": "code",
   "execution_count": 8,
   "metadata": {},
   "outputs": [
    {
     "name": "stdout",
     "output_type": "stream",
     "text": [
      "A média do directX rodado na Best_Resolution  Com  um nulo é: 9.864150943396226\n",
      "A média do directX rodado na Memory_Speed  Com  um nulo é: 9.89010989010989\n",
      "A média do directX rodado na Pixel_Rate  Com  um nulo é: 9.748314606741573\n",
      "A média do directX rodado na Process  Com  um nulo é: 9.598930481283423\n",
      "A média do directX rodado na ROPs  Com  um nulo é: 9.736961451247165\n",
      "A média do directX rodado na Resolution_WxH  Com  um nulo é: 9.626666666666667\n",
      "A média do directX rodado na TMUs  Com  um nulo é: 9.736961451247165\n",
      "A média do directX rodado na Texture_Rate  Com  um nulo é: 9.748314606741573\n",
      "O conjunto de colunas onde os valores nulos influenciam o DirectX rodado é: ['Best_Resolution', 'Memory_Speed', 'Pixel_Rate', 'Process', 'ROPs', 'Resolution_WxH', 'TMUs', 'Texture_Rate']\n"
     ]
    }
   ],
   "source": [
    "importantnull = []\n",
    "for column in Dt.columns:\n",
    "    if Dt['DirectX'].loc[Dt[column].isna()  == True ].mean() < 10:\n",
    "        importantnull.append(column)\n",
    "        print('A média do directX rodado na', column, ' Com  um nulo é:', Dt['DirectX'].loc[Dt[column].isna()  == True ].mean() )\n",
    "print('O conjunto de colunas onde os valores nulos influenciam o DirectX rodado é:',importantnull)        "
   ]
  },
  {
   "cell_type": "markdown",
   "metadata": {},
   "source": [
    "O que iremos fazer com cada uma desses valores iremos decidir depois. Mas é possível criar uma coluna extra dizendo se esses dados são nulos ou não e fazer outros estudos com base nisso"
   ]
  },
  {
   "cell_type": "markdown",
   "metadata": {},
   "source": [
    "### Valores númericos"
   ]
  },
  {
   "cell_type": "markdown",
   "metadata": {},
   "source": [
    "Primeiramente gostaria de dar uma olhada nos valores numéricos. Observar claros casos de outliers e ter uma noção das médias dos dados e quais eu gostaria (ou não) de normalizar."
   ]
  },
  {
   "cell_type": "code",
   "execution_count": 9,
   "metadata": {},
   "outputs": [
    {
     "data": {
      "text/html": [
       "<div>\n",
       "<style scoped>\n",
       "    .dataframe tbody tr th:only-of-type {\n",
       "        vertical-align: middle;\n",
       "    }\n",
       "\n",
       "    .dataframe tbody tr th {\n",
       "        vertical-align: top;\n",
       "    }\n",
       "\n",
       "    .dataframe thead th {\n",
       "        text-align: right;\n",
       "    }\n",
       "</style>\n",
       "<table border=\"1\" class=\"dataframe\">\n",
       "  <thead>\n",
       "    <tr style=\"text-align: right;\">\n",
       "      <th></th>\n",
       "      <th>DVI_Connection</th>\n",
       "      <th>DisplayPort_Connection</th>\n",
       "      <th>HDMI_Connection</th>\n",
       "      <th>Shader</th>\n",
       "      <th>TMUs</th>\n",
       "      <th>VGA_Connection</th>\n",
       "      <th>DirectX</th>\n",
       "    </tr>\n",
       "  </thead>\n",
       "  <tbody>\n",
       "    <tr>\n",
       "      <th>count</th>\n",
       "      <td>2501.000000</td>\n",
       "      <td>836.000000</td>\n",
       "      <td>2492.000000</td>\n",
       "      <td>3098.000000</td>\n",
       "      <td>2739.000000</td>\n",
       "      <td>2494.000000</td>\n",
       "      <td>3180.000000</td>\n",
       "    </tr>\n",
       "    <tr>\n",
       "      <th>mean</th>\n",
       "      <td>1.368653</td>\n",
       "      <td>1.616029</td>\n",
       "      <td>0.864366</td>\n",
       "      <td>4.744061</td>\n",
       "      <td>70.230376</td>\n",
       "      <td>0.212109</td>\n",
       "      <td>11.420755</td>\n",
       "    </tr>\n",
       "    <tr>\n",
       "      <th>std</th>\n",
       "      <td>0.707701</td>\n",
       "      <td>1.221438</td>\n",
       "      <td>0.466525</td>\n",
       "      <td>0.644150</td>\n",
       "      <td>54.450249</td>\n",
       "      <td>0.428991</td>\n",
       "      <td>0.964130</td>\n",
       "    </tr>\n",
       "    <tr>\n",
       "      <th>min</th>\n",
       "      <td>0.000000</td>\n",
       "      <td>0.000000</td>\n",
       "      <td>0.000000</td>\n",
       "      <td>1.000000</td>\n",
       "      <td>1.000000</td>\n",
       "      <td>0.000000</td>\n",
       "      <td>8.000000</td>\n",
       "    </tr>\n",
       "    <tr>\n",
       "      <th>25%</th>\n",
       "      <td>1.000000</td>\n",
       "      <td>1.000000</td>\n",
       "      <td>1.000000</td>\n",
       "      <td>5.000000</td>\n",
       "      <td>32.000000</td>\n",
       "      <td>0.000000</td>\n",
       "      <td>11.000000</td>\n",
       "    </tr>\n",
       "    <tr>\n",
       "      <th>50%</th>\n",
       "      <td>1.000000</td>\n",
       "      <td>1.000000</td>\n",
       "      <td>1.000000</td>\n",
       "      <td>5.000000</td>\n",
       "      <td>56.000000</td>\n",
       "      <td>0.000000</td>\n",
       "      <td>12.000000</td>\n",
       "    </tr>\n",
       "    <tr>\n",
       "      <th>75%</th>\n",
       "      <td>2.000000</td>\n",
       "      <td>3.000000</td>\n",
       "      <td>1.000000</td>\n",
       "      <td>5.000000</td>\n",
       "      <td>112.000000</td>\n",
       "      <td>0.000000</td>\n",
       "      <td>12.000000</td>\n",
       "    </tr>\n",
       "    <tr>\n",
       "      <th>90%</th>\n",
       "      <td>2.000000</td>\n",
       "      <td>3.000000</td>\n",
       "      <td>1.000000</td>\n",
       "      <td>5.000000</td>\n",
       "      <td>144.000000</td>\n",
       "      <td>1.000000</td>\n",
       "      <td>12.000000</td>\n",
       "    </tr>\n",
       "    <tr>\n",
       "      <th>99%</th>\n",
       "      <td>3.000000</td>\n",
       "      <td>3.000000</td>\n",
       "      <td>2.000000</td>\n",
       "      <td>5.000000</td>\n",
       "      <td>240.000000</td>\n",
       "      <td>1.000000</td>\n",
       "      <td>12.000000</td>\n",
       "    </tr>\n",
       "    <tr>\n",
       "      <th>max</th>\n",
       "      <td>4.000000</td>\n",
       "      <td>4.000000</td>\n",
       "      <td>3.000000</td>\n",
       "      <td>5.000000</td>\n",
       "      <td>384.000000</td>\n",
       "      <td>4.000000</td>\n",
       "      <td>12.000000</td>\n",
       "    </tr>\n",
       "  </tbody>\n",
       "</table>\n",
       "</div>"
      ],
      "text/plain": [
       "       DVI_Connection  DisplayPort_Connection  HDMI_Connection       Shader  \\\n",
       "count     2501.000000              836.000000      2492.000000  3098.000000   \n",
       "mean         1.368653                1.616029         0.864366     4.744061   \n",
       "std          0.707701                1.221438         0.466525     0.644150   \n",
       "min          0.000000                0.000000         0.000000     1.000000   \n",
       "25%          1.000000                1.000000         1.000000     5.000000   \n",
       "50%          1.000000                1.000000         1.000000     5.000000   \n",
       "75%          2.000000                3.000000         1.000000     5.000000   \n",
       "90%          2.000000                3.000000         1.000000     5.000000   \n",
       "99%          3.000000                3.000000         2.000000     5.000000   \n",
       "max          4.000000                4.000000         3.000000     5.000000   \n",
       "\n",
       "              TMUs  VGA_Connection      DirectX  \n",
       "count  2739.000000     2494.000000  3180.000000  \n",
       "mean     70.230376        0.212109    11.420755  \n",
       "std      54.450249        0.428991     0.964130  \n",
       "min       1.000000        0.000000     8.000000  \n",
       "25%      32.000000        0.000000    11.000000  \n",
       "50%      56.000000        0.000000    12.000000  \n",
       "75%     112.000000        0.000000    12.000000  \n",
       "90%     144.000000        1.000000    12.000000  \n",
       "99%     240.000000        1.000000    12.000000  \n",
       "max     384.000000        4.000000    12.000000  "
      ]
     },
     "execution_count": 9,
     "metadata": {},
     "output_type": "execute_result"
    }
   ],
   "source": [
    "Dt.describe(percentiles= (0.25,0.75,0.9,0.99))"
   ]
  },
  {
   "cell_type": "code",
   "execution_count": 10,
   "metadata": {},
   "outputs": [
    {
     "data": {
      "image/png": "[encoded data removed]",
      "text/plain": [
       "<Figure size 432x288 with 2 Axes>"
      ]
     },
     "metadata": {
      "needs_background": "light"
     },
     "output_type": "display_data"
    }
   ],
   "source": [
    "cmap = sns.color_palette(\"rainbow\", as_cmap=True)\n",
    "sns.heatmap(Dt.corr(method='spearman'), vmin = -1,vmax = 1,cmap = cmap,linewidths = .5)\n",
    "plt.show()"
   ]
  },
  {
   "cell_type": "code",
   "execution_count": 11,
   "metadata": {},
   "outputs": [
    {
     "data": {
      "text/plain": [
       "VGA_Connection           -0.316267\n",
       "DVI_Connection            0.142414\n",
       "DisplayPort_Connection    0.228413\n",
       "TMUs                      0.416649\n",
       "HDMI_Connection           0.578608\n",
       "Shader                    0.802498\n",
       "DirectX                   1.000000\n",
       "Name: DirectX, dtype: float64"
      ]
     },
     "execution_count": 11,
     "metadata": {},
     "output_type": "execute_result"
    }
   ],
   "source": [
    "Dt.corr(method='spearman')['DirectX'].sort_values()\n",
    "#Perceba que o DisplayPort_connection não é tão relevante na ocorrencia do DirectX\n",
    "#E por outro lado, ele tem uma quantidade absurda de dados faltantes\n",
    "#Apartir de agora irei retirar ele do Dataset"
   ]
  },
  {
   "cell_type": "code",
   "execution_count": 12,
   "metadata": {},
   "outputs": [],
   "source": [
    "Dt1 = Dt.drop('DisplayPort_Connection',axis = 1)"
   ]
  },
  {
   "cell_type": "markdown",
   "metadata": {},
   "source": [
    "Reservo essa Celula para dar um pequeno resumo do que é a feature TMUs: \\\n",
    "In computer graphics, a texture mapping unit (TMU) is a component in modern graphics processing units (GPUs). They are able to rotate, resize, and distort a bitmap image to be placed onto an arbitrary plane of a given 3D model as a texture, in a process called texture mapping. -Wikipédia  https://en.wikipedia.org/wiki/Texture_mapping_unit"
   ]
  },
  {
   "cell_type": "code",
   "execution_count": 13,
   "metadata": {},
   "outputs": [
    {
     "name": "stdout",
     "output_type": "stream",
     "text": [
      "11.703535353535354 11.034883720930232 10.333333333333334\n",
      "11.037773359840955 11.593023255813954 11.834022750775594\n",
      "9.666666666666666 11.648351648351648 11.926315789473684\n",
      "10.0 11.575757575757576 12.0\n",
      "11.009727626459144 11.619705751226036 11.839136831780284\n"
     ]
    }
   ],
   "source": [
    "#Agora realizo um pequeno estudo, sobre as variaveis de portas, verificando se a ocorrencia de um DirectX maior se da\n",
    "#Pela existência da porta, ou pela quantidade de portas:\n",
    "print(Dt1['DirectX'].loc[Dt1['VGA_Connection'] == 0].mean(),\n",
    "Dt1['DirectX'].loc[Dt1['DVI_Connection'] == 0].mean(),\n",
    "Dt1['DirectX'].loc[Dt1['HDMI_Connection'] == 0].mean()\n",
    ")\n",
    "print(Dt1['DirectX'].loc[Dt1['VGA_Connection'] == 1].mean(),\n",
    "Dt1['DirectX'].loc[Dt1['DVI_Connection'] == 1].mean(),\n",
    "Dt1['DirectX'].loc[Dt1['HDMI_Connection'] == 1].mean())\n",
    "print(Dt1['DirectX'].loc[Dt1['VGA_Connection'] == 2].mean(),\n",
    "Dt1['DirectX'].loc[Dt1['DVI_Connection'] == 2].mean(),\n",
    "Dt1['DirectX'].loc[Dt1['HDMI_Connection'] == 2].mean())\n",
    "print(Dt1['DirectX'].loc[Dt1['VGA_Connection'] >= 3].mean(),\n",
    "Dt1['DirectX'].loc[Dt1['DVI_Connection'] >= 3].mean(),\n",
    "Dt1['DirectX'].loc[Dt1['HDMI_Connection'] >= 3].mean())\n",
    "print(Dt1['DirectX'].loc[Dt1['VGA_Connection'] > 0].mean(),\n",
    "Dt1['DirectX'].loc[Dt1['DVI_Connection'] > 0].mean(),\n",
    "Dt1['DirectX'].loc[Dt1['HDMI_Connection'] > 0].mean())\n",
    "#Tirando o caso da conexão VGA as outras features se distinguem em maioria na existência ou não das portas"
   ]
  },
  {
   "cell_type": "markdown",
   "metadata": {},
   "source": [
    "Antes de realizar essas mudanças nesses dados precisamos ver algum jeito de tratar os valores nulos. Como o fato deles serem nulos não altera muito no resultado, irei somente trocar pela média "
   ]
  },
  {
   "cell_type": "code",
   "execution_count": 14,
   "metadata": {},
   "outputs": [],
   "source": [
    "Dt2 = Dt1.copy() \n",
    "Dt2['DVI_Connection'] = Dt2['DVI_Connection'].fillna(Dt2['DVI_Connection'].mode()[0])\n",
    "Dt2['VGA_Connection'] = Dt2['VGA_Connection'].fillna(Dt2['VGA_Connection'].mode()[0])\n",
    "Dt2['HDMI_Connection'] = Dt2['HDMI_Connection'].fillna(Dt2['HDMI_Connection'].mode()[0])\n"
   ]
  },
  {
   "cell_type": "code",
   "execution_count": 15,
   "metadata": {},
   "outputs": [
    {
     "data": {
      "text/plain": [
       "11.96875"
      ]
     },
     "execution_count": 15,
     "metadata": {},
     "output_type": "execute_result"
    }
   ],
   "source": [
    "#Dando uma olhada no outlier claramente perceptivel na feature TMUs\n",
    "Dt2['DirectX'].loc[Dt2['TMUs'] >220 ].mean() # A média diz muito que além de TMU parecer influenciar tanto no DirectX\n",
    "# Diz que mexer com eles talvez não seja tão importânte, ja que se mantém na proporção dos outros\n"
   ]
  },
  {
   "cell_type": "code",
   "execution_count": 16,
   "metadata": {},
   "outputs": [
    {
     "data": {
      "text/html": [
       "<div>\n",
       "<style scoped>\n",
       "    .dataframe tbody tr th:only-of-type {\n",
       "        vertical-align: middle;\n",
       "    }\n",
       "\n",
       "    .dataframe tbody tr th {\n",
       "        vertical-align: top;\n",
       "    }\n",
       "\n",
       "    .dataframe thead th {\n",
       "        text-align: right;\n",
       "    }\n",
       "</style>\n",
       "<table border=\"1\" class=\"dataframe\">\n",
       "  <thead>\n",
       "    <tr style=\"text-align: right;\">\n",
       "      <th></th>\n",
       "      <th>DVI_Connection</th>\n",
       "      <th>HDMI_Connection</th>\n",
       "      <th>Shader</th>\n",
       "      <th>TMUs</th>\n",
       "      <th>VGA_Connection</th>\n",
       "      <th>DirectX</th>\n",
       "    </tr>\n",
       "  </thead>\n",
       "  <tbody>\n",
       "    <tr>\n",
       "      <th>count</th>\n",
       "      <td>3180.000000</td>\n",
       "      <td>3180.000000</td>\n",
       "      <td>3180.000000</td>\n",
       "      <td>3180.000000</td>\n",
       "      <td>3180.000000</td>\n",
       "      <td>3180.000000</td>\n",
       "    </tr>\n",
       "    <tr>\n",
       "      <th>mean</th>\n",
       "      <td>0.918868</td>\n",
       "      <td>0.857547</td>\n",
       "      <td>4.750660</td>\n",
       "      <td>60.352201</td>\n",
       "      <td>0.166352</td>\n",
       "      <td>11.420755</td>\n",
       "    </tr>\n",
       "    <tr>\n",
       "      <th>std</th>\n",
       "      <td>0.273081</td>\n",
       "      <td>0.349569</td>\n",
       "      <td>0.637081</td>\n",
       "      <td>56.211906</td>\n",
       "      <td>0.389788</td>\n",
       "      <td>0.964130</td>\n",
       "    </tr>\n",
       "    <tr>\n",
       "      <th>min</th>\n",
       "      <td>0.000000</td>\n",
       "      <td>0.000000</td>\n",
       "      <td>1.000000</td>\n",
       "      <td>-1.000000</td>\n",
       "      <td>0.000000</td>\n",
       "      <td>8.000000</td>\n",
       "    </tr>\n",
       "    <tr>\n",
       "      <th>25%</th>\n",
       "      <td>1.000000</td>\n",
       "      <td>1.000000</td>\n",
       "      <td>5.000000</td>\n",
       "      <td>16.000000</td>\n",
       "      <td>0.000000</td>\n",
       "      <td>11.000000</td>\n",
       "    </tr>\n",
       "    <tr>\n",
       "      <th>50%</th>\n",
       "      <td>1.000000</td>\n",
       "      <td>1.000000</td>\n",
       "      <td>5.000000</td>\n",
       "      <td>48.000000</td>\n",
       "      <td>0.000000</td>\n",
       "      <td>12.000000</td>\n",
       "    </tr>\n",
       "    <tr>\n",
       "      <th>75%</th>\n",
       "      <td>1.000000</td>\n",
       "      <td>1.000000</td>\n",
       "      <td>5.000000</td>\n",
       "      <td>96.000000</td>\n",
       "      <td>0.000000</td>\n",
       "      <td>12.000000</td>\n",
       "    </tr>\n",
       "    <tr>\n",
       "      <th>max</th>\n",
       "      <td>1.000000</td>\n",
       "      <td>1.000000</td>\n",
       "      <td>5.000000</td>\n",
       "      <td>384.000000</td>\n",
       "      <td>4.000000</td>\n",
       "      <td>12.000000</td>\n",
       "    </tr>\n",
       "  </tbody>\n",
       "</table>\n",
       "</div>"
      ],
      "text/plain": [
       "       DVI_Connection  HDMI_Connection       Shader         TMUs  \\\n",
       "count     3180.000000      3180.000000  3180.000000  3180.000000   \n",
       "mean         0.918868         0.857547     4.750660    60.352201   \n",
       "std          0.273081         0.349569     0.637081    56.211906   \n",
       "min          0.000000         0.000000     1.000000    -1.000000   \n",
       "25%          1.000000         1.000000     5.000000    16.000000   \n",
       "50%          1.000000         1.000000     5.000000    48.000000   \n",
       "75%          1.000000         1.000000     5.000000    96.000000   \n",
       "max          1.000000         1.000000     5.000000   384.000000   \n",
       "\n",
       "       VGA_Connection      DirectX  \n",
       "count     3180.000000  3180.000000  \n",
       "mean         0.166352    11.420755  \n",
       "std          0.389788     0.964130  \n",
       "min          0.000000     8.000000  \n",
       "25%          0.000000    11.000000  \n",
       "50%          0.000000    12.000000  \n",
       "75%          0.000000    12.000000  \n",
       "max          4.000000    12.000000  "
      ]
     },
     "execution_count": 16,
     "metadata": {},
     "output_type": "execute_result"
    }
   ],
   "source": [
    "Dt3 = Dt2.copy()\n",
    "Dt3['DVI_Connection'] = Dt3['DVI_Connection'].apply(lambda x: 1 if x != 0 else 0)\n",
    "Dt3['HDMI_Connection'] = Dt3['HDMI_Connection'].apply(lambda x: 1 if x != 0 else 0)\n",
    "#Nos resta estudar TMUs e os shaders, irei trocar os valores nulos de TMUs por -1\n",
    "#Assim o modelo poderá entender quando que há um valor nulo na coluna TMUs\n",
    "#no caso dos shaders irei trocar pela moda também.\n",
    "Dt3['TMUs'] = Dt3['TMUs'].fillna(-1)\n",
    "Dt3['Shader'] = Dt3['Shader'].fillna(Dt2['Shader'].mode()[0])\n",
    "Dt3.describe()"
   ]
  },
  {
   "cell_type": "code",
   "execution_count": 17,
   "metadata": {},
   "outputs": [
    {
     "data": {
      "image/png": "[encoded data removed]",
      "text/plain": [
       "<Figure size 864x432 with 2 Axes>"
      ]
     },
     "metadata": {
      "needs_background": "light"
     },
     "output_type": "display_data"
    }
   ],
   "source": [
    "# Para finalizar, irei plotar graficos dos valores de shaders e TMUs para observar o quao bem ficou nossa abordagem\n",
    "x = []\n",
    "y = []\n",
    "for i in Dt3['Shader'].unique():\n",
    "    y.append(Dt3['DirectX'].loc[Dt3['Shader'] ==  i ].mean())\n",
    "    x.append(i)\n",
    "fig ,axes = plt.subplots(1,2, figsize = (12,6))\n",
    "\n",
    "\n",
    "sns.barplot( ax = axes[0],\n",
    "x = x,\n",
    "y = y\n",
    ")\n",
    "sns.histplot(data = Dt3,\n",
    "x = 'Shader',\n",
    "ax = axes[1]\n",
    ")\n",
    "axes[0].set_title('Média de DirectX por Shader')\n",
    "axes[1].set_title('Contagem de cada Shader ')\n",
    "axes[0].set_xlabel('Valor do Shader')\n",
    "axes[0].set_ylabel('Média do DirectX')\n",
    "axes[1].set_ylabel('Contagem')\n",
    "plt.show()\n"
   ]
  },
  {
   "cell_type": "code",
   "execution_count": 18,
   "metadata": {},
   "outputs": [
    {
     "data": {
      "image/png": "[encoded data removed]",
      "text/plain": [
       "<Figure size 864x432 with 2 Axes>"
      ]
     },
     "metadata": {
      "needs_background": "light"
     },
     "output_type": "display_data"
    }
   ],
   "source": [
    "fig ,axes = plt.subplots(1,2, figsize = (12,6))\n",
    "bins =[-50,0,50,100,150,200,250,300,400]\n",
    "clrs = ['null' if (x == -1) else 'Valor' for x in Dt3['TMUs'] ]\n",
    "pallete ={\n",
    "    'null' : 'red',\n",
    "    'Valor' : 'blue'\n",
    "}\n",
    "sns.lineplot(data = Dt3,\n",
    "ax = axes[0],\n",
    "x = 'TMUs',\n",
    "y = 'DirectX',\n",
    "hue = clrs,\n",
    "palette= pallete,\n",
    ")\n",
    "sns.histplot(data = Dt3,\n",
    "x = 'TMUs',\n",
    "ax = axes[1],\n",
    "bins = bins,\n",
    "hue=clrs,\n",
    "palette = pallete\n",
    ")\n",
    "axes[0].set_title('Média de DirectX por TMU')\n",
    "axes[1].set_title('Contagem de cada TMU ')\n",
    "axes[0].set_xlabel('Valor do TMU')\n",
    "axes[0].set_ylabel('Média do DirectX')\n",
    "axes[1].set_ylabel('Contagem')\n",
    "plt.show()"
   ]
  },
  {
   "cell_type": "markdown",
   "metadata": {},
   "source": [
    "### Valores Categóricos"
   ]
  },
  {
   "cell_type": "code",
   "execution_count": 19,
   "metadata": {},
   "outputs": [
    {
     "name": "stdout",
     "output_type": "stream",
     "text": [
      "<class 'pandas.core.frame.DataFrame'>\n",
      "RangeIndex: 3180 entries, 0 to 3179\n",
      "Data columns (total 28 columns):\n",
      " #   Column            Non-Null Count  Dtype  \n",
      "---  ------            --------------  -----  \n",
      " 0   Nome              3180 non-null   object \n",
      " 1   Best_Resolution   2650 non-null   object \n",
      " 2   Boost_Clock       1412 non-null   object \n",
      " 3   Core_Speed        3180 non-null   object \n",
      " 4   DVI_Connection    3180 non-null   int64  \n",
      " 5   Dedicated         3170 non-null   object \n",
      " 6   HDMI_Connection   3180 non-null   int64  \n",
      " 7   Integrated        3170 non-null   object \n",
      " 8   L2_Cache          3180 non-null   object \n",
      " 9   Max_Power         2633 non-null   object \n",
      " 10  Memory            2814 non-null   object \n",
      " 11  Memory_Bandwidth  3079 non-null   object \n",
      " 12  Memory_Bus        3133 non-null   object \n",
      " 13  Memory_Speed      3089 non-null   object \n",
      " 14  Memory_Type       3137 non-null   object \n",
      " 15  Notebook_GPU      3180 non-null   object \n",
      " 16  PSU               2129 non-null   object \n",
      " 17  Pixel_Rate        2735 non-null   object \n",
      " 18  Power_Connector   2534 non-null   object \n",
      " 19  Process           2806 non-null   object \n",
      " 20  ROPs              2739 non-null   object \n",
      " 21  Resolution_WxH    3030 non-null   object \n",
      " 22  SLI_Crossfire     3180 non-null   object \n",
      " 23  Shader            3180 non-null   float64\n",
      " 24  TMUs              3180 non-null   float64\n",
      " 25  Texture_Rate      2735 non-null   object \n",
      " 26  VGA_Connection    3180 non-null   float64\n",
      " 27  DirectX           3180 non-null   int64  \n",
      "dtypes: float64(3), int64(3), object(22)\n",
      "memory usage: 695.8+ KB\n"
     ]
    }
   ],
   "source": [
    "#novamente, plotarei os tipos de cada feature\n",
    "Dt3.info() # E agora com calma irei passar olhando por cada variavel"
   ]
  },
  {
   "cell_type": "code",
   "execution_count": 20,
   "metadata": {},
   "outputs": [
    {
     "data": {
      "text/html": [
       "<div>\n",
       "<style scoped>\n",
       "    .dataframe tbody tr th:only-of-type {\n",
       "        vertical-align: middle;\n",
       "    }\n",
       "\n",
       "    .dataframe tbody tr th {\n",
       "        vertical-align: top;\n",
       "    }\n",
       "\n",
       "    .dataframe thead th {\n",
       "        text-align: right;\n",
       "    }\n",
       "</style>\n",
       "<table border=\"1\" class=\"dataframe\">\n",
       "  <thead>\n",
       "    <tr style=\"text-align: right;\">\n",
       "      <th></th>\n",
       "      <th>Boost_Clock</th>\n",
       "      <th>Core_Speed</th>\n",
       "      <th>Max_Power</th>\n",
       "      <th>Memory</th>\n",
       "      <th>Memory_Bus</th>\n",
       "      <th>Memory_Speed</th>\n",
       "      <th>Pixel_Rate</th>\n",
       "      <th>Process</th>\n",
       "      <th>Texture_Rate</th>\n",
       "    </tr>\n",
       "  </thead>\n",
       "  <tbody>\n",
       "    <tr>\n",
       "      <th>0</th>\n",
       "      <td>1253 MHz</td>\n",
       "      <td>1076 MHz</td>\n",
       "      <td>75 Watts</td>\n",
       "      <td>2048 MB</td>\n",
       "      <td>128 Bit</td>\n",
       "      <td>1653 MHz</td>\n",
       "      <td>40 GPixel/s</td>\n",
       "      <td>28nm</td>\n",
       "      <td>60 GTexel/s</td>\n",
       "    </tr>\n",
       "    <tr>\n",
       "      <th>1</th>\n",
       "      <td>NaN</td>\n",
       "      <td>\\n-</td>\n",
       "      <td>50 Watts</td>\n",
       "      <td>512 MB</td>\n",
       "      <td>128 Bit</td>\n",
       "      <td>800 MHz</td>\n",
       "      <td>NaN</td>\n",
       "      <td>NaN</td>\n",
       "      <td>NaN</td>\n",
       "    </tr>\n",
       "    <tr>\n",
       "      <th>2</th>\n",
       "      <td>NaN</td>\n",
       "      <td>810 MHz</td>\n",
       "      <td>45 Watts</td>\n",
       "      <td>2048 MB</td>\n",
       "      <td>128 Bit</td>\n",
       "      <td>900 MHz</td>\n",
       "      <td>13 GPixel/s</td>\n",
       "      <td>28nm</td>\n",
       "      <td>26 GTexel/s</td>\n",
       "    </tr>\n",
       "    <tr>\n",
       "      <th>3</th>\n",
       "      <td>1111 MHz</td>\n",
       "      <td>1046 MHz</td>\n",
       "      <td>NaN</td>\n",
       "      <td>2048 MB</td>\n",
       "      <td>192 Bit</td>\n",
       "      <td>1502 MHz</td>\n",
       "      <td>27 GPixel/s</td>\n",
       "      <td>28nm</td>\n",
       "      <td>89 GTexel/s</td>\n",
       "    </tr>\n",
       "    <tr>\n",
       "      <th>4</th>\n",
       "      <td>NaN</td>\n",
       "      <td>954 MHz</td>\n",
       "      <td>25 Watts</td>\n",
       "      <td>1024 MB</td>\n",
       "      <td>64 Bit</td>\n",
       "      <td>900 MHz</td>\n",
       "      <td>8 GPixel/s</td>\n",
       "      <td>28nm</td>\n",
       "      <td>31 GTexel/s</td>\n",
       "    </tr>\n",
       "    <tr>\n",
       "      <th>...</th>\n",
       "      <td>...</td>\n",
       "      <td>...</td>\n",
       "      <td>...</td>\n",
       "      <td>...</td>\n",
       "      <td>...</td>\n",
       "      <td>...</td>\n",
       "      <td>...</td>\n",
       "      <td>...</td>\n",
       "      <td>...</td>\n",
       "    </tr>\n",
       "    <tr>\n",
       "      <th>3175</th>\n",
       "      <td>1000 MHz</td>\n",
       "      <td>300 MHz</td>\n",
       "      <td>5 Watts</td>\n",
       "      <td>NaN</td>\n",
       "      <td>128 Bit</td>\n",
       "      <td>933 MHz</td>\n",
       "      <td>8 GPixel/s</td>\n",
       "      <td>14nm</td>\n",
       "      <td>16 GTexel/s</td>\n",
       "    </tr>\n",
       "    <tr>\n",
       "      <th>3176</th>\n",
       "      <td>NaN</td>\n",
       "      <td>775 MHz</td>\n",
       "      <td>NaN</td>\n",
       "      <td>1024 MB</td>\n",
       "      <td>128 Bit</td>\n",
       "      <td>1000 MHz</td>\n",
       "      <td>6 GPixel/s</td>\n",
       "      <td>40nm</td>\n",
       "      <td>16 GTexel/s</td>\n",
       "    </tr>\n",
       "    <tr>\n",
       "      <th>3177</th>\n",
       "      <td>NaN</td>\n",
       "      <td>820 MHz</td>\n",
       "      <td>NaN</td>\n",
       "      <td>1024 MB</td>\n",
       "      <td>256 Bit</td>\n",
       "      <td>1100 MHz</td>\n",
       "      <td>26 GPixel/s</td>\n",
       "      <td>40nm</td>\n",
       "      <td>39 GTexel/s</td>\n",
       "    </tr>\n",
       "    <tr>\n",
       "      <th>3178</th>\n",
       "      <td>NaN</td>\n",
       "      <td>850 MHz</td>\n",
       "      <td>NaN</td>\n",
       "      <td>2048 MB</td>\n",
       "      <td>128 Bit</td>\n",
       "      <td>800 MHz</td>\n",
       "      <td>14 GPixel/s</td>\n",
       "      <td>28nm</td>\n",
       "      <td>27 GTexel/s</td>\n",
       "    </tr>\n",
       "    <tr>\n",
       "      <th>3179</th>\n",
       "      <td>1582 MHz</td>\n",
       "      <td>1480 MHz</td>\n",
       "      <td>220 Watts</td>\n",
       "      <td>11264 MB</td>\n",
       "      <td>176 Bit</td>\n",
       "      <td>1376 MHz</td>\n",
       "      <td>152 GPixel/s</td>\n",
       "      <td>16nm</td>\n",
       "      <td>354 GTexel/s</td>\n",
       "    </tr>\n",
       "  </tbody>\n",
       "</table>\n",
       "<p>3180 rows × 9 columns</p>\n",
       "</div>"
      ],
      "text/plain": [
       "     Boost_Clock Core_Speed  Max_Power     Memory Memory_Bus Memory_Speed  \\\n",
       "0      1253 MHz    1076 MHz   75 Watts   2048 MB    128 Bit      1653 MHz   \n",
       "1            NaN       \\n-    50 Watts    512 MB    128 Bit       800 MHz   \n",
       "2            NaN    810 MHz   45 Watts   2048 MB    128 Bit       900 MHz   \n",
       "3      1111 MHz    1046 MHz        NaN   2048 MB    192 Bit      1502 MHz   \n",
       "4            NaN    954 MHz   25 Watts   1024 MB     64 Bit       900 MHz   \n",
       "...          ...        ...        ...        ...        ...          ...   \n",
       "3175   1000 MHz     300 MHz    5 Watts        NaN   128 Bit       933 MHz   \n",
       "3176         NaN    775 MHz        NaN   1024 MB    128 Bit      1000 MHz   \n",
       "3177         NaN    820 MHz        NaN   1024 MB    256 Bit      1100 MHz   \n",
       "3178         NaN    850 MHz        NaN   2048 MB    128 Bit       800 MHz   \n",
       "3179   1582 MHz    1480 MHz  220 Watts  11264 MB    176 Bit      1376 MHz   \n",
       "\n",
       "        Pixel_Rate Process  Texture_Rate  \n",
       "0      40 GPixel/s    28nm   60 GTexel/s  \n",
       "1              NaN     NaN           NaN  \n",
       "2      13 GPixel/s    28nm   26 GTexel/s  \n",
       "3      27 GPixel/s    28nm   89 GTexel/s  \n",
       "4       8 GPixel/s    28nm   31 GTexel/s  \n",
       "...            ...     ...           ...  \n",
       "3175    8 GPixel/s    14nm   16 GTexel/s  \n",
       "3176    6 GPixel/s    40nm   16 GTexel/s  \n",
       "3177   26 GPixel/s    40nm   39 GTexel/s  \n",
       "3178   14 GPixel/s    28nm   27 GTexel/s  \n",
       "3179  152 GPixel/s    16nm  354 GTexel/s  \n",
       "\n",
       "[3180 rows x 9 columns]"
      ]
     },
     "execution_count": 20,
     "metadata": {},
     "output_type": "execute_result"
    }
   ],
   "source": [
    "#Para Agilizar o trabalho irei tentar computar os valores em grupos\n",
    "VarUM = ['Boost_Clock','Core_Speed','Max_Power','Memory','Memory_Bus','Memory_Speed','Pixel_Rate','Process','Texture_Rate']\n",
    "Dt3[VarUM]\n",
    "# Estas são features cujos variaveis acompanham alguma unidade de medida, retira-las será razoavelmente facil"
   ]
  },
  {
   "cell_type": "code",
   "execution_count": 21,
   "metadata": {},
   "outputs": [],
   "source": [
    "# Exemplo do Processo para converção à float de features do tipo objeto com uma string sem mexer nos valores nulos\n",
    "Dt4 = Dt3.copy()\n",
    "Dt4['Core_Speed'] = Dt4['Core_Speed'].apply(lambda x: x if x != '\\n- ' else np.nan) #Trata os dados escritos de forma bizzarra\n",
    "Dt4['Boost_Clock'] = Dt4['Boost_Clock'].convert_dtypes() #Converte para o melhor tipo, neste caso string\n",
    "Dt4['Boost_Clock'] = Dt4['Boost_Clock'].fillna('0 mz') #Para podermos ignorar os valores nulos \n",
    "Dt4['Boost_Clock'] = Dt4['Boost_Clock'].apply(lambda x: x.split()[0]) #Separamos a parte que queremos\n",
    "Dt4['Boost_Clock'] = Dt4['Boost_Clock'].apply(lambda x: np.nan if x == '0'  else float(x)) #Voltamos ao dataset com nulos e ja convertemos para float\n"
   ]
  },
  {
   "cell_type": "code",
   "execution_count": 22,
   "metadata": {},
   "outputs": [
    {
     "name": "stdout",
     "output_type": "stream",
     "text": [
      "0       1253.0\n",
      "1          NaN\n",
      "2          NaN\n",
      "3       1111.0\n",
      "4          NaN\n",
      "         ...  \n",
      "3175    1000.0\n",
      "3176       NaN\n",
      "3177       NaN\n",
      "3178       NaN\n",
      "3179    1582.0\n",
      "Name: Boost_Clock, Length: 3180, dtype: float64 count    1412.000000\n",
      "mean     1205.971671\n",
      "std       253.409405\n",
      "min       400.000000\n",
      "25%      1050.000000\n",
      "50%      1176.000000\n",
      "75%      1317.000000\n",
      "max      1936.000000\n",
      "Name: Boost_Clock, dtype: float64\n"
     ]
    }
   ],
   "source": [
    "print(Dt4['Boost_Clock'],Dt4['Boost_Clock'].describe())"
   ]
  }
 ],
 "metadata": {
  "kernelspec": {
   "display_name": "Python 3.9.12 ('base')",
   "language": "python",
   "name": "python3"
  },
  "language_info": {
   "codemirror_mode": {
    "name": "ipython",
    "version": 3
   },
   "file_extension": ".py",
   "mimetype": "text/x-python",
   "name": "python",
   "nbconvert_exporter": "python",
   "pygments_lexer": "ipython3",
   "version": "3.9.12"
  },
  "orig_nbformat": 4,
  "vscode": {
   "interpreter": {
    "hash": "f08154012ddadd8e950e6e9e035c7a7b32c136e7647e9b7c77e02eb723a8bedb"
   }
  }
 },
 "nbformat": 4,
 "nbformat_minor": 2
}
